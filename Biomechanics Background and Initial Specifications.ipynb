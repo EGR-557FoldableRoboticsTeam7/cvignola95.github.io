{
 "cells": [
  {
   "cell_type": "markdown",
   "metadata": {},
   "source": [
    "# Team 7\n",
    "\n",
    "# How to modify actuator’s stiffness to achieve controllable linear and/or spherical motion of a paper and plastic based robotic actuator/s using foldable robotics techniques.\n",
    "\n",
    "#### Members\n",
    "Claudio Vignola  \n",
    "Dallas Wells  \n",
    "Chien-Wen Pan  \n",
    "Manoj Akkaraboina  "
   ]
  },
  {
   "cell_type": "markdown",
   "metadata": {},
   "source": [
    "###  1. Identify a candidate organism you wish to focus on its biomechanics. This consists of a specific animal species, its body plan, and the motion of interest. Search in Google scholar, using keywords such as “anatomy,” “morphology,” “mechanics,” “biomechanics,” “ground reaction forces,” etc. along with the animal’s informal or scientific name along with the type of locomotion.\n",
    "    a. List five of the most closely related research references on topics pertinent to your project, in IEEE format\n",
    "    b. Identify three citations which are most useful in creating initial specifications for your robot(use an asterisk in the previous list). Now discuss these three papers, highlighting the information you can draw from each. Be specific. Why is each paper valuable? (At least one paragraph each) \n",
    "\n",
    "1. S. Burgess, J. Wang, A. Etoundi, R. Vaidyanathan and J. Oliver, \"A functional analysis of the jaw mechanism in the sling-jaw wrasse\", International Journal of Design & Nature and Ecodynamics, vol. 6, no. 4, pp. 258-271, 2011. Available: 10.2495/dne-v6-n4-258-271.*\n",
    "\n",
    "In this paper, the computed tomography has enabled a 3d visualization of the sling-jaw wrasse's deployment mechanism. More specifically, it showed why this mechanism is seen in relatively small fishes compared to big fishes. This highly efficient linear deployment could be used in any application where moving the overall robot could appear more energy costly. The paper also focuses on the jaw mechanism's numerical model, which gives us critical information for our initial specifications. This paper proves the efficiency in the adoption of the Sling-jaw wrasse system to capture prey. The energy used by the fish's jaw is 97.9%  less than the energy required to move the fish of the same distance.\n",
    "\n",
    "2. M. Westneat and P. Wainwright, \"Feeding mechanism of Epibulus insidiator (Labridae; Teleostei): Evolution of a novel functional system\", Journal of Morphology, vol. 202, no. 2, pp. 129-150, 1989. Available: 10.1002/jmor.1052020202.*\n",
    "\n",
    "This paper clearly describes the motion of the jaw of the Epibulus insidiator (sling-jaw wrasse).  The paper dives into this fish's functional morphology, explaining how its attack strategy and his body structure allow him extreme protrusion allowing him to extend as much as 65% of his head dimension. It was found that this fish can arc its mouth up to 100 degrees and its muscles require 10% less energy. Figure 6 of the paper pictures the jaw's movement, whereas Figure 7 clearly illustrates its kinematics of the protrusion. \n",
    "\n",
    "3. A. RICE, W. COOPER and M. WESTNEAT, \"Diversification of coordination patterns during feeding behaviour in cheiline wrasses\", Biological Journal of the Linnean Society, vol. 93, no. 2, pp. 289-308, 2008. Available: 10.1111/j.1095-8312.2007.00915.x.*\n",
    "\n",
    "In this paper, there is an in-depth analysis of the difference between 3 different but similar fish species that share the jaw movement found in the sling-jaw wrasse.  In particular, the forces and speeds required by each fish were found to be significantly different. It was also noted that the Jaw movements, gape, gape angle, and protrusion differed between the three species.  These differences were found to be significant compared to the scale of the body. This paper clearly describes each fish's kinematic variables during feeding, giving detailed information about body position and behavior. Figure 4C has discussed the distance that the jaw protrudes forward to the prey, which establishes that the Epibulus Insidiator benefits the most from its jaw design. It is further described in Figure 10 the velocity of the protrusion, which reaches an average of 10 BL/s² (Body length per second).\n",
    "\n",
    "4. B. Carlson, J. Randall and M. Dawson, \"A New Species of Epibulus (Perciformes: Labridae) from the West Pacific\", Copeia, vol. 2008, no. 2, pp. 476-483, 2008. Available: 10.1643/ci-07-085.\n",
    "\n",
    "5. M. Alfaro, D. Bolnick and P. Wainwright, \"EVOLUTIONARY DYNAMICS OF COMPLEX BIOMECHANICAL SYSTEMS: AN EXAMPLE USING THE FOUR-BAR MECHANISM\", Evolution, vol. 58, no. 3, p. 495, 2004. Available: 10.1554/03-404.\n",
    "\n",
    "6. G. Lauder and R. Shadwick, Fish biomechanics. Amsterdam: Academic Press, 2006, pp. 29-75.\n"
   ]
  },
  {
   "cell_type": "markdown",
   "metadata": {},
   "source": [
    "### 2. Search for existing bio-inspired robots based on the same animal, subsystem, and motion.\n",
    "    a.List five of the most closely-related research references on topics pertinent to your project in IEEE format.\n",
    "    b.Identify three citations which are most useful in creating initial specifications for your robot(use an asterisk in the previous list). Now discuss these three papers, highlighting the information you can draw from each. Be specific. Why is each paper valuable? (At least one paragraph each)\n",
    "    \n",
    "1. Mohamad Aizat Abdul Wahit, Siti Anom Ahmad, Mohammad Hamiruce Marhaban, Chikamune Wada  and Lila Iznita Izhar “3D Printed Robot Hand Structure Using Four-Bar Linkage Mechanism for Prosthetic Application” Sensors (Basel). 2020 Aug; 20(15): 4174. Published online 2020 Jul 27. doi: 10.3390/s20154174  PMCID: PMC7435972 PMID: 32727150.*\n",
    "\n",
    "This paper proposes a robot hand structure with improved features (four-bar linkage mechanism) to overcome the deficiency of using the cable-driven actuated mechanism that leads to less structure durability and inaccurate motion range. This proposed robot hand structure also took into account the existing design problems such as bulky structure, non-individual actuated finger, incomplete fingers and a lack of finger joints compared to the actual finger in its design. This paper presents the improvements achieved by applying the proposed design such as the use of a four-bar linkage mechanism instead of using the cable-driven mechanism, the size of an average human hand, five-fingers with completed joints where each finger is moved by motor individually, joint protection using a mechanical stopper, detachable finger structure from the palm frame, a structure that has sufficient durability for everyday use and an easy to fabricate structure using 3D printing technology. This paper also provides a detailed account of the Materials used, design specifications (Fig 3 & Fig 4) and the electric & electronic system (Fig 12) of the robot.\n",
    "\n",
    "\n",
    "2. Saha, Deeptam & Sanfui, Subhajit & Kabiraj, Rajat & Das, Santanu. (2014). Design and Implementation of a 4-Bar linkage Gripper. IOSR Journal of Mechanical and Civil Engineering. 11. 61-66. 10.9790/1684-11546166.* \n",
    "\n",
    "This paper presents a four bar linkage mechanism used in the design and implementation of a gripper. This paper focuses on minimizing the weight, grasping the object securely, gripping multiple objects with a single gripper, not deforming the object while gripping and designing for the proper grippe-object interaction. The gripper developed was configured with a four bar linkage design for its wide applications and utilization of minimum workspace. The gripper consists of four rectangular aluminum flats arranged according to a four bar linkage gripper configuration. The fingers are flat and rectangular in shape. The base of the gripper was made of a rectangular aluminum bar for light weight consideration to ease machining. Holes are made in the bar for fitting the bearings. The gripper is guided by using a worm and spur gear arrangement to convert the rotational motion to linear motion. To control gripping of objects, two standard round commercial force sensors are used. These are force sensor resistor (FSR) type sensors with Flexi-force model 402 working in the range of 10gm to 1kg (0.1N– 10N), and are used to measure the applied force. Another standard commercial square force sensor resistor FSR (Flexi-force model 406 working in the range of 10g to 1kg (0.1N– 10N)) as shown in Figure 2, is used to measure the initial weight of the object that is to be gripped. These three sensors are tactile sensors. The actuator used to drive the four-bar linkage gripper is a permanent magnet dc motor of 10rpm, 2A 12 V rating. An Atmega 16 Board manufactured by Extreme Electronics, Inc. is used to control the actuation required. Figure 3 shows the items used. The design of the gripper has been made taking into some restrictions as long fingers require high torque, and short fingers impose restrictions on object dimensions. Hence bars are selected as per suitable dimensions for the construction of the gripper. A deformable complaint rubber material is used at the face of the fingers that come in contact with the workpiece, so as to decrease the pressure to apply on the object, increase interface friction, and avoid deformation from the uneven application of force.  The paper also describes an equation(equation 1) to calculate the torque required for gripping the object.The paper also demonstrates the force sensor calibration.\n",
    "\n",
    "3. Benjamin D. Shuch, Taha Shafa, Eric Rogers, Daniel M. Aukes. “DESIGN OF A TWO DOF LAMINATE LEG TRANSMISSION FOR CREATING WALKING ROBOT PLATFORMS” IDETC/CIE2019. IDETC2019-98100.*\n",
    "\n",
    "This paper presents a low-cost, two degree-of-freedom laminate robot transmission for legged locomotion applications. A single leg of this robot consists of three four-bar linkages connected in a parallel-series configuration as shown in fig 2 of the paper. The system is actuated by two servo motors fixed to the body and connected to two joints. This paper also gives detailed information about the mechatronic design of the quadruped robot.\n",
    "\n",
    "4. Appolinaire C. Etoundi; Ravi Vaidyanathan; Stuart C. Burgess. “A bio-inspired condylar hinge joint for mobile robots” DOI: 10.1109/IROS.2011.6094924.\n",
    "\n",
    "\n",
    "5. Hwi-Su Kim; Jae-Bok Song, “ Low-cost robot arm with 3-DOF counterbalance mechanism” DOI: 10.1109/ICRA.2013.6631168.\n",
    "    "
   ]
  },
  {
   "cell_type": "markdown",
   "metadata": {},
   "source": [
    "### 3. Collect all the information you have found from your references into one place. A well-formatted table may do, with supplementary figures from literature as needed. A specifications table is a handy way to collect parameters. Use SI units.\n",
    "\n",
    "\n",
    "![title](Table.jpg \"Table 1. Parameters\")\n",
    "\n",
    "\n"
   ]
  },
  {
   "cell_type": "markdown",
   "metadata": {},
   "source": [
    "### 4. Fill in the information gaps from your biomechanics investigation with informed assumptions you can make. For example, if you know ground reaction forces from your paper, and some masses, try to find peak accelerations. If you know forces and velocities, calculate power usage. If you know maximum jump height and mass, find energy required for a jump. The most important pieces of information you can gather at this point are elements like “how much energy is consumed in accomplishing this gait,” “What are the forces involved,” etc.\n",
    "\n",
    "Since what we know is  only the maximum speed and acceleration, we assume the speed and acceleration profiles are sinusoidal. Therefore, maximum acceleration happens at t = 0, goes to 0 at the midpoint and becomes negative from midpoint to reaching the prey. Meanwhile, maximum speed happens when the mouth is at the midpoint and is 0 when t = 0. With this assumption, and knowing the relationship between force and acceleration, and power and force and speed. We are able to estimate the power consumption profile shown in the following figure.\n",
    "We know the mass and assume the acceleration profile under one stroke, we can estimate the force profile  needed for protrusion by using Newton’s second law: F = m*a. Similarly, knowing the force profile and the speed, the estimated power can be calculated as P = F*v.\n",
    "\n",
    "![title](Graph.jpg)\n",
    "\n",
    "The size and weight of sling-jaw wrasse is relatively small (2 grams). For our prototypes, we will have to scale up the size of the mechanism and will need a more powerful actuating.\n"
   ]
  },
  {
   "cell_type": "markdown",
   "metadata": {},
   "source": [
    "### 5. Supply at least two figures from literature, highlighting key aspects of the biological system. This should include one from each of the following categories:\n",
    "\n",
    "    Figures/drawings of skeleton, anatomy, exoskeleton, body plan, musculature, kinematics, Motion plots, freeze frames of gait cycle, plot of ground reaction forcesm, and other aspects of the parameters above.\n",
    "\n",
    "![title](Epibulus.jpg)\n",
    "![title](Scan.jpg)\n",
    "![title](Mecha.jpg)\n",
    "![title](Plot1.jpg)\n",
    "![title](Plot2.jpg)\n",
    "\n",
    " \n"
   ]
  },
  {
   "cell_type": "markdown",
   "metadata": {},
   "source": [
    "### 6. Draw the simplest engineering representation of the system you can of your proposed mechanical system. How many rigid bodies are there? How many can be approximated as massless(1/10 of the total mass or less)? Where are the springs? Where is the (main) actuator? \n",
    "\n",
    "![title](Fig6.jpg)\n",
    "\n",
    "In this drawing, the only massless approximations are the padding in the gripping end effector. All other beams have roughly equal mass relative to their length. This results in a total of 9 rigid bodies. The fixed structure and the 8 beams. No springs are needed as the motion is controlled in both the linear actuation and the closing mechanism based on the angle of the main actuator located at the rearmost link of the four bar mechanism."
   ]
  },
  {
   "cell_type": "markdown",
   "metadata": {},
   "source": [
    "### 7. Discussion\n",
    "\n",
    "1. Discuss / defend your rationale for the size animal you selected in terms of your ability to replicate key features remotely with limited material selection.\n",
    "\n",
    "The key features of the jaw movement of the slingjaw wrasse can be easily replicated. The mechanism that is used by the jaw of the slingjaw wrasse is similar to that of a four bar mechanism. The fish can extend its jaws up to 65% the length of its head. The largest specimens of this fish may attain a standard length of 21 inches. Based on the data from the above citations the jaw reaching distance can range from 30 mm-45 mm. Judging by the relative small size of the animal, all the key mechanical features required for the mechanical motion of the robot can be easily replicated.  Affordable servo motors can be used to initiate the actual movement of the bars of the four bar mechanism and initiate the movement of actuators. The electrical and electronic control can be achieved by utilizing electronic circuit boards from Arduino. We are yet to decide on the material to be used for the robotic arm and at this moment we are going through our options for the most affordable and appropriate material for the robotic arm.\n",
    "\n",
    "2. Find a motor and battery that can supply the mechanical power needs obtained above. Consider that motor efficiencies may be as high as 95%, but if you can’t find it listed, assume you find a more affordable motor at 50-70% efficiency. Compare the mechanical watts/kg for the necessary motor and battery vs the animal’s mechanical power/mass above? Which one is more energy dense?\n",
    "\n",
    "Let us consider a DFRobot FIT0492-A motor which weighs 210.01 g with a torque rating of 883mNm. The diameter of the shaft is 6.00 mm. So the force that can be generated by the motor is 883/3= 294.3mN. Considering the motor efficiency is at 95%, the force generated by the motor will be 279mN. The mechanical power will be approximately 7 watts. Let us calculate the mechanical power/mass for just the motor: 279mNm/210g = 1.32N/kg. If we consider the mass of the battery then the mechanical watts/kg for both the motor and battery will be less than 1.32N/Kg. The mechanical power[4]/mass[3] of the slingjaw wrasse is approximately 0.257/100g =2.57N/Kg. Based on the calculations the slingjaw wrasse is more energy dense. \n",
    "\n"
   ]
  },
  {
   "cell_type": "markdown",
   "metadata": {},
   "source": [
    "## Bibliography\n",
    "\n",
    "1. S. Burgess, J. Wang, A. Etoundi, R. Vaidyanathan and J. Oliver, “A functional analysis of the jaw mechanism in the sling-jaw wrasse”, International Journal of Design & Nature and Ecodynamics, vol. 6, no. 4, pp. 258-271, 2011. Available: 10.2495/dne-v6-n4-258-271.\n",
    "2. M. Westneat and P. Wainwright, “Feeding mechanism of Epibulus insidiator (Labridae; Teleostei): Evolution of a novel functional system”, Journal of Morphology, vol. 202, no. 2, pp. 129-150, 1989. Available: 10.1002/jmor.1052020202.\n",
    "3. A. RICE, W. COOPER and M. WESTNEAT, “Diversification of coordination patterns during feeding behaviour in cheiline wrasses”, Biological Journal of the Linnean Society, vol. 93, no. 2, pp. 289-308, 2008. Available: 10.1111/j.1095-8312.2007.00915.x.\n",
    "4. B. Carlson, J. Randall and M. Dawson, “A New Species of Epibulus (Perciformes: Labridae) from the West Pacific”, Copeia, vol. 2008, no. 2, pp. 476-483, 2008. Available: 10.1643/ci-07-085.\n",
    "5. M. Alfaro, D. Bolnick and P. Wainwright, “EVOLUTIONARY DYNAMICS OF COMPLEX BIOMECHANICAL SYSTEMS: AN EXAMPLE USING THE FOUR-BAR MECHANISM”, Evolution, vol. 58, no. 3, p. 495, 2004. Available: 10.1554/03-404.\n",
    "6. G. Lauder and R. Shadwick, Fish biomechanics. Amsterdam: Academic Press, 2006, pp. 29-75.\n",
    "7. A. Mohamad Aizat Abdul Wahit, Siti Anom Ahmad, Mohammad Hamiruce Marhaban, Chikamune Wada and Lila Iznita Izhar “3D Printed Robot Hand Structure Using Four-Bar Linkage Mechanism for Prosthetic Application” Sensors (Basel). 2020 Aug; 20(15): 4174. Published online 2020 Jul 27. doi: 10.3390/s20154174 PMCID: PMC7435972 PMID: 32727150.\n",
    "8. B. Saha, Deeptam & Sanfui, Subhajit & Kabiraj, Rajat & Das, Santanu. (2014). Design and Implementation of a 4-Bar linkage Gripper. IOSR Journal of Mechanical and Civil Engineering. 11. 61-66. 10.9790/1684-11546166.\n",
    "9. C. Benjamin D. Shuch, Taha Shafa, Eric Rogers, Daniel M. Aukes. “DESIGN OF A TWO DOF LAMINATE LEG TRANSMISSION FOR CREATING WALKING ROBOT PLATFORMS” IDETC/CIE2019. IDETC2019-98100.\n",
    "10. D. Appolinaire C. Etoundi; Ravi Vaidyanathan; Stuart C. Burgess. “A bio-inspired condylar hinge joint for mobile robots” DOI: 10.1109/IROS.2011.6094924.\n",
    "11. E. Hwi-Su Kim; Jae-Bok Song, “ Low-cost robot arm with 3-DOF counterbalance mechanism” DOI: 10.1109/ICRA.2013.6631168.\n"
   ]
  }
 ],
 "metadata": {
  "kernelspec": {
   "display_name": "Python 3",
   "language": "python",
   "name": "python3"
  },
  "language_info": {
   "codemirror_mode": {
    "name": "ipython",
    "version": 3
   },
   "file_extension": ".py",
   "mimetype": "text/x-python",
   "name": "python",
   "nbconvert_exporter": "python",
   "pygments_lexer": "ipython3",
   "version": "3.8.5"
  }
 },
 "nbformat": 4,
 "nbformat_minor": 4
}
