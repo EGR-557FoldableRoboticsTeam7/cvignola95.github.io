{
 "cells": [
  {
   "cell_type": "markdown",
   "metadata": {},
   "source": [
    "# Team 7\n",
    "\n",
    "# How to modify actuator’s stiffness to achieve controllable linear and/or spherical motion of a paper and plastic based robotic actuator/s using foldable robotics techniques.\n",
    "\n",
    "## Members\n",
    "Dallas Wells  \n",
    "Claudio Vignola  \n",
    "Chien-Wen Pan  \n",
    "Manoj Akkaraboina  "
   ]
  },
  {
   "cell_type": "markdown",
   "metadata": {},
   "source": [
    "## Tractability\n",
    "Is your question tractable and achievable? Discuss your plan for scoping your problem to fit in a 15-week course.\n",
    "\n",
    "Our original research question specifically stated, “How to increase the actuator stiffness and achieve linear and spherical motion of a robotic arm model using foldable robotic techniques.”.  This open-ended question was deemed unachievable in only 15 weeks, but rephrasing it into a lower-level system as one or two actuators would be compared to a SCARA manipulator and defining paper  and plastic as the sole materials being used as the base material, the project appears more constrained and therefore achievable. \n",
    "\n",
    "\n",
    "## Novelty\n",
    "Is your question novel? How have you established novelty?\n",
    "\n",
    "Keywords:  \n",
    "We use the combinations of “variable stiffness”, “foldable mechanisms”, origami”, “actuators”, and their synonyms as the keywords to search for literature for our topic.\n",
    "\n",
    "Most highly cited references:  \n",
    "With the keywords we use, we found many literatures related to soft robotics or variable impedance actuators using many mechanical parts like springs and motors, which does not fit our research topic. There are several papers that present foldable mechanisms that provide lock/unlock of the motion but not many of them have the ability to have a continuous stiffness change. \n",
    "1. Kim, Suk-Jun, Dae-Young Lee, Gwang-Pil Jung, and Kyu-Jin Cho. “An Origami-Inspired, Self-Locking Robotic Arm That Can Be Folded Flat.” Science Robotics 3, no. 16 (March 14, 2018)\n",
    "2. Park, Y.-J., Lee, J.-G., Jeon, S., Ahn, H., Koh, J., Ryu, J., … Cho, K.-J. (2015). Dual-stiffness structures with reconfiguring mechanism: Design and investigation. Journal of Intelligent Material Systems and Structures, 27(8), 995–1010. doi:10.1177/1045389x15577642 \n",
    "3. Kim, J., Lee, D.-Y., Kim, S.-R., & Cho, K.-J. (2015). A self-deployable origami structure with locking mechanism induced by buckling effect. 2015 IEEE International Conference on Robotics and Automation (ICRA).\n",
    "4. Zhai, Zirui, Yong Wang, Ken Lin, Lingling Wu, and Hanqing Jiang. “In Situ Stiffness Manipulation Using Elegant Curved Origami.” Science Advances 6, no. 47 (2020).\n",
    "\n",
    "Summary of references:  \n",
    "1. In this paper, an origami-inspired self-locking foldable robotics arm is designed. The system is driven by tendon-driven actuation, and a self-locking mechanism is implemented. The foldable arms installed on mobile robots can allow them to reach into narrow space and perform more tasks.\n",
    "2. This paper presents dual-stiffness structures using combinations of rigid segments and soft segments in the structures. By changing the relative positions of the rigid segments to soft segments, the bending motions of the soft parts is constrained; hence, locked. This paper shows two mechanisms to achieve the reconfiguration: folding and bending.\n",
    "3. A tubular origami mechanism is presented in this paper. By heating the system, the embedded SMA wires activate and a buckling effect changes the folding line from one to another diagonal to create axial stiffness. This effect enables the device to switch between two states: flexible and locked states.\n",
    "4. This paper illustrates design of curved origami patterns to achieve in situ stiffness changes by activating different curved creases. Different curved patterns can be designed for different applications. In this paper, three robotics related components are demonstrated: a lightweight universal gripper, a cube with tunable stiffness for controllable force transmissibility, and Miura patterns for in situ multistage stiffness response.\n",
    "\n",
    "\n",
    "\n",
    "## Interesting\n",
    "Is your question interesting, timely, and relevant?\n",
    "\n",
    "Paper base actuators in foldable robotics are part of the learning environment that Dr. Aukes is developing for students. By answering this broad but at the same time, specific question, the future students and/or researchers will have tangible information and data to make design decisions while developing new technologies. Our results must demonstrate if this type of control is achievable using commonly available items and, if not, what kind of expertise and design factors would be required to achieve controllable linear and/or spherical motion.\n",
    "\n",
    "Today more than ever, the development of foldable robotics requires further investigations by the research community. Actuators are the way of motion of foldable robots to initiate or continue the motion. This question is relative in the macro-robotics community, which was studying the materials' particular characteristics ten years ago. In this research question, we benefit from the past research, and it strives to bring forward a subject (mixed-materials actuation) that did not get enough attention.\n",
    "\n",
    "The advantage of mixed-materials actuation will prove useful to improve macro-actuation further, and it could be an inspiration to analyze micro-actuation at a molecular level. This research subject will improve the understanding of material limitations and therefore show the importance of mixed-materials analysis.\n",
    "\n",
    "\n",
    "## Open-Ended\n",
    "Is your question open-ended? Could it leave room for a deeper look if given more time and resources? Discuss how you have structured your research question to permit further, deeper investigation.\n",
    "\n",
    "With varying geometric parameters and constraints, there are many ways to modify a joint stiffness using paper-based foldable robotics techniques. Our work would be one of the many solutions. Given a limited time and budget, we would only try out some mechanisms using a few materials and pick a best design within our tryouts. Each materials selection and mechanism designs of the actuators would have their own advantages and disadvantages, and different characterizations. Some of them would be more suitable for certain situations. With different needs, researchers can study and fabricate several prototypes to meet their needs.  \n",
    "\n",
    "## Modular\n",
    "Is your question modular? How does it fit with other complementary research thrusts?\n",
    "\n",
    "Answering the question about the stiffness of the foldable robotic actuator is very modular. While this project specifically deals with the stiffness of the robot’s actuator, the broader goal of this project is to design a robotic arm and to study the impact of actuator stiffness of robotic arms used for several applications like manufacturing, surgery and agriculture. For example, the integration of soft actuating materials with origami based mechanisms for low stiffness robotic applications can be understood with the question that we propose. By answering the question about the stiffness of the robotic actuator, one can become completely familiar with the several materials that can be used to build actuators for robotic arms for different kinds of applications. Along with that, working on this question also gives the opportunity to design an actuator using foldable robotic techniques and then test the stiffness of it. Actuator stiffness plays an important role when designing a robotic system that leverages foldable techniques rather than the conventional techniques. Studying the stiffness of the actuators will help a lot in designing foldable robots which have better strength to weight ratios when compared to traditional robots. Hence the study of actuator stiffness for designing actuators for foldable robots is very modular.\n",
    "\n",
    "## Team Fit\n",
    "How does answering this question leverage your interests and abilities?\n",
    "\n",
    "This project was initially proposed to be a foldable robotic arm mounted on a mobile device which moves utilizing foldable robotic techniques instead of traditional techniques for motion. Creating such a robotic device and making the device autonomous was the primary interest of this project. So studying the stiffness of the actuators and answering the question about stiffness of actuators of robotic arms helps with designing a robotic arm for the initial idea of the project. All the team members of this project have the necessary knowledge and academic background to leverage their abilities and answer the question about stiffness of actuators. By answering this question the team members will be able to leverage their knowledge and abilities by providing valuable research data and ideas of how to test the actuator stiffness and by providing valuable suggestions and recommendations about the correct stiffness that has to be used for any particular foldable robotic arm application.\n",
    "\n",
    "\n",
    "## Topic Fit\n",
    "How does the question use foldable robotics techniques to answer it?\n",
    "\n",
    "Foldable robotics techniques have the benefit of allowing the use of low cost and widely available materials to be used in place of other more expensive options. By leveraging these techniques and determining the optimal stiffness of actuators for things like robotic arms it becomes possible to create an easily manufacturable robot that is able to accomplish a variety of tasks. In addition, this question leverages the limitations of these foldable materials and techniques, determining the kinds of actuation available using these techniques and where their limits lie and how these limitations compare to standard techniques currently used within robotics for similar applications."
   ]
  },
  {
   "cell_type": "markdown",
   "metadata": {},
   "source": []
  }
 ],
 "metadata": {
  "kernelspec": {
   "display_name": "Python 3",
   "language": "python",
   "name": "python3"
  },
  "language_info": {
   "codemirror_mode": {
    "name": "ipython",
    "version": 3
   },
   "file_extension": ".py",
   "mimetype": "text/x-python",
   "name": "python",
   "nbconvert_exporter": "python",
   "pygments_lexer": "ipython3",
   "version": "3.8.5"
  }
 },
 "nbformat": 4,
 "nbformat_minor": 4
}
