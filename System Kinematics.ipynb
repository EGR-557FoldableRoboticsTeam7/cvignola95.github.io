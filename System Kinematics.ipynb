{
 "cells": [
  {
   "cell_type": "markdown",
   "metadata": {
    "id": "center-scientist"
   },
   "source": [
    "EGR 557 Foldable Robotics\n",
    "System Kinematics\n",
    "Team 7"
   ]
  },
  {
   "cell_type": "markdown",
   "metadata": {
    "id": "intended-career"
   },
   "source": [
    "1. Create a figure (either in python, in a vector-based drawing program like inkscape or illustrator, or as a solidworks rendering) of your system kinematics.\n",
    "\n",
    "![Annotated%20Figure.svg](./AnnotatedFigure.svg)"
   ]
  },
  {
   "cell_type": "markdown",
   "metadata": {
    "id": "australian-coordination"
   },
   "source": [
    "2. Make the device in paper or cardboard. You need an up-to-date model if it has changed from your individual assignments. The paper model should dimensionally match your code.\n",
    "\n",
    "![IMG-2615](./IMG-2615.jpg)\n",
    "![IMG-2616.jpg](./IMG-2616.jpg)\n",
    "![IMG-2636.jpg](./IMG-2636.jpg)\n",
    "![IMG-2635.jpg](./IMG-2635.jpg)\n",
    "![IMG-2637.jpg](./IMG-2637.jpg)\n",
    "![IMG-2634.jpg](./IMG-2634.jpg)\n",
    "![IMG-2633.jpg](./IMG-2633.jpg)\n",
    "![IMG-2632.jpg](./IMG-2632.jpg)\n",
    "![IMG-2631.jpg](./IMG-2631.jpg)"
   ]
  },
  {
   "cell_type": "markdown",
   "metadata": {
    "id": "pharmaceutical-prisoner"
   },
   "source": [
    "3. Using a pynamics-based script, develop a kinematic model for your device."
   ]
  },
  {
   "cell_type": "code",
   "execution_count": 1,
   "metadata": {
    "colab": {
     "base_uri": "https://localhost:8080/"
    },
    "executionInfo": {
     "elapsed": 26609,
     "status": "ok",
     "timestamp": 1613792344656,
     "user": {
      "displayName": "Chien-Wen Pan",
      "photoUrl": "",
      "userId": "05656865594938849414"
     },
     "user_tz": 420
    },
    "id": "Dd5ocjDzjvZL",
    "outputId": "253dff61-0d6f-46f1-af90-a570be68f091"
   },
   "outputs": [
    {
     "name": "stdout",
     "output_type": "stream",
     "text": [
      "Collecting meshio\n",
      "\u001b[?25l  Downloading https://files.pythonhosted.org/packages/f4/ac/19210a76ce06edb7f7b0757e60c10c9dc8e886ae0df4f635b024dd223762/meshio-4.3.9-py3-none-any.whl (152kB)\n",
      "\u001b[K     |████████████████████████████████| 153kB 9.2MB/s \n",
      "\u001b[?25hCollecting pygmsh\n",
      "\u001b[?25l  Downloading https://files.pythonhosted.org/packages/16/3d/633b786234fbc60769636aa6d8e326f9710e46e9d3df8ecc3ad3dc722a3a/pygmsh-7.1.8-py3-none-any.whl (44kB)\n",
      "\u001b[K     |████████████████████████████████| 51kB 6.2MB/s \n",
      "\u001b[?25hCollecting ezdxf\n",
      "\u001b[?25l  Downloading https://files.pythonhosted.org/packages/eb/f1/efef84611b661794477460ef9c4c1764bdfa1eec613773414904eba47c42/ezdxf-0.15.1-cp36-cp36m-manylinux2010_x86_64.whl (1.6MB)\n",
      "\u001b[K     |████████████████████████████████| 1.6MB 14.0MB/s \n",
      "\u001b[?25hCollecting pandoc-fignos\n",
      "  Downloading https://files.pythonhosted.org/packages/ee/cb/0376950d5f1cedbdd94864916a293e3fe94eb295450e692428721c6e6b5e/pandoc_fignos-2.4.0-py3-none-any.whl\n",
      "Collecting pandoc-eqnos\n",
      "  Downloading https://files.pythonhosted.org/packages/ec/48/b6c559ebe35954d66dcebb7ba30e54b4cf5ef1ff3345f7d0470ce40c5d7c/pandoc_eqnos-2.5.0-py3-none-any.whl\n",
      "Collecting pypdf4\n",
      "\u001b[?25l  Downloading https://files.pythonhosted.org/packages/4f/1f/509b44850c475c101aa5b5c9b81755cedd363389d6fbb5c53be6fa915a61/PyPDF4-1.27.0.tar.gz (63kB)\n",
      "\u001b[K     |████████████████████████████████| 71kB 9.7MB/s \n",
      "\u001b[?25hCollecting service_identity\n",
      "  Downloading https://files.pythonhosted.org/packages/e9/7c/2195b890023e098f9618d43ebc337d83c8b38d414326685339eb024db2f6/service_identity-18.1.0-py2.py3-none-any.whl\n",
      "Collecting ftd2xx\n",
      "\u001b[?25l  Downloading https://files.pythonhosted.org/packages/dc/fe/6dad63c0d1af2649145b1887a7d7d17eacaac23fa7c342496fb19d28043d/ftd2xx-1.1.2-py3-none-any.whl (155kB)\n",
      "\u001b[K     |████████████████████████████████| 163kB 43.1MB/s \n",
      "\u001b[?25hCollecting pygithub\n",
      "\u001b[?25l  Downloading https://files.pythonhosted.org/packages/18/44/df78514f2b5f5abaec330596e0fa3273824238399a964d1a7e82fd39990d/PyGithub-1.54.1-py3-none-any.whl (289kB)\n",
      "\u001b[K     |████████████████████████████████| 296kB 41.3MB/s \n",
      "\u001b[?25hCollecting twine\n",
      "  Downloading https://files.pythonhosted.org/packages/eb/d7/a46b7eb07b491a9295c3581f86ad68f97df83e000dc9a4c6e3c710c432dd/twine-3.3.0-py3-none-any.whl\n",
      "Collecting paho-mqtt\n",
      "\u001b[?25l  Downloading https://files.pythonhosted.org/packages/32/d3/6dcb8fd14746fcde6a556f932b5de8bea8fedcb85b3a092e0e986372c0e7/paho-mqtt-1.5.1.tar.gz (101kB)\n",
      "\u001b[K     |████████████████████████████████| 102kB 10.8MB/s \n",
      "\u001b[?25hRequirement already satisfied: numpy in /usr/local/lib/python3.6/dist-packages (from meshio) (1.19.5)\n",
      "Requirement already satisfied: importlib-metadata; python_version < \"3.8\" in /usr/local/lib/python3.6/dist-packages (from meshio) (3.4.0)\n",
      "Requirement already satisfied: pyparsing>=2.0.1 in /usr/local/lib/python3.6/dist-packages (from ezdxf) (2.4.7)\n",
      "Collecting pandoc-xnos<3.0,>=2.5.0\n",
      "  Downloading https://files.pythonhosted.org/packages/f1/de/61a5101307a3d777884023486b0b6020ae6da4ec3da0dcc97039d0907e00/pandoc_xnos-2.5.0-py3-none-any.whl\n",
      "Requirement already satisfied: pyasn1 in /usr/local/lib/python3.6/dist-packages (from service_identity) (0.4.8)\n",
      "Collecting cryptography\n",
      "\u001b[?25l  Downloading https://files.pythonhosted.org/packages/f8/1f/acde6ff69864c5e78b56488e3afd93c1ccc8c2651186e2a5f93d93f64859/cryptography-3.4.6-cp36-abi3-manylinux2014_x86_64.whl (3.2MB)\n",
      "\u001b[K     |████████████████████████████████| 3.2MB 42.4MB/s \n",
      "\u001b[?25hRequirement already satisfied: pyasn1-modules in /usr/local/lib/python3.6/dist-packages (from service_identity) (0.2.8)\n",
      "Requirement already satisfied: attrs>=16.0.0 in /usr/local/lib/python3.6/dist-packages (from service_identity) (20.3.0)\n",
      "Requirement already satisfied: future in /usr/local/lib/python3.6/dist-packages (from ftd2xx) (0.16.0)\n",
      "Collecting deprecated\n",
      "  Downloading https://files.pythonhosted.org/packages/d4/56/7d4774533d2c119e1873993d34d313c9c9efc88c5e4ab7e33bdf915ad98c/Deprecated-1.2.11-py2.py3-none-any.whl\n",
      "Requirement already satisfied: requests>=2.14.0 in /usr/local/lib/python3.6/dist-packages (from pygithub) (2.23.0)\n",
      "Collecting pyjwt<2.0\n",
      "  Downloading https://files.pythonhosted.org/packages/87/8b/6a9f14b5f781697e51259d81657e6048fd31a113229cf346880bb7545565/PyJWT-1.7.1-py2.py3-none-any.whl\n",
      "Requirement already satisfied: setuptools>=0.7.0 in /usr/local/lib/python3.6/dist-packages (from twine) (53.0.0)\n",
      "Requirement already satisfied: tqdm>=4.14 in /usr/local/lib/python3.6/dist-packages (from twine) (4.41.1)\n",
      "Collecting keyring>=15.1\n",
      "  Downloading https://files.pythonhosted.org/packages/96/17/86e1e5b50dc14e5984a661dde2ed3b7f05efe1fdee32145a77708cf06904/keyring-22.0.1-py3-none-any.whl\n",
      "Collecting requests-toolbelt!=0.9.0,>=0.8.0\n",
      "\u001b[?25l  Downloading https://files.pythonhosted.org/packages/60/ef/7681134338fc097acef8d9b2f8abe0458e4d87559c689a8c306d0957ece5/requests_toolbelt-0.9.1-py2.py3-none-any.whl (54kB)\n",
      "\u001b[K     |████████████████████████████████| 61kB 8.4MB/s \n",
      "\u001b[?25hCollecting pkginfo>=1.4.2\n",
      "  Downloading https://files.pythonhosted.org/packages/b0/9a/d78e7c299eb5659bc3a036e5a968a399c62bfe0b2aa18baf7d13f43373ba/pkginfo-1.7.0-py2.py3-none-any.whl\n",
      "Collecting colorama>=0.4.3\n",
      "  Downloading https://files.pythonhosted.org/packages/44/98/5b86278fbbf250d239ae0ecb724f8572af1c91f4a11edf4d36a206189440/colorama-0.4.4-py2.py3-none-any.whl\n",
      "Collecting rfc3986>=1.4.0\n",
      "  Downloading https://files.pythonhosted.org/packages/78/be/7b8b99fd74ff5684225f50dd0e865393d2265656ef3b4ba9eaaaffe622b8/rfc3986-1.4.0-py2.py3-none-any.whl\n",
      "Collecting readme-renderer>=21.0\n",
      "  Downloading https://files.pythonhosted.org/packages/54/18/0adfcac99c08a6d45947e5da4e1388a7bb9957502a2b4ad12176fed6aeaf/readme_renderer-28.0-py2.py3-none-any.whl\n",
      "Requirement already satisfied: typing-extensions>=3.6.4; python_version < \"3.8\" in /usr/local/lib/python3.6/dist-packages (from importlib-metadata; python_version < \"3.8\"->meshio) (3.7.4.3)\n",
      "Requirement already satisfied: zipp>=0.5 in /usr/local/lib/python3.6/dist-packages (from importlib-metadata; python_version < \"3.8\"->meshio) (3.4.0)\n",
      "Requirement already satisfied: psutil<6,>=4.1.0 in /usr/local/lib/python3.6/dist-packages (from pandoc-xnos<3.0,>=2.5.0->pandoc-fignos) (5.4.8)\n",
      "Requirement already satisfied: pandocfilters<2,>=1.4.2 in /usr/local/lib/python3.6/dist-packages (from pandoc-xnos<3.0,>=2.5.0->pandoc-fignos) (1.4.3)\n",
      "Requirement already satisfied: cffi>=1.12 in /usr/local/lib/python3.6/dist-packages (from cryptography->service_identity) (1.14.4)\n",
      "Requirement already satisfied: wrapt<2,>=1.10 in /usr/local/lib/python3.6/dist-packages (from deprecated->pygithub) (1.12.1)\n",
      "Requirement already satisfied: urllib3!=1.25.0,!=1.25.1,<1.26,>=1.21.1 in /usr/local/lib/python3.6/dist-packages (from requests>=2.14.0->pygithub) (1.24.3)\n",
      "Requirement already satisfied: chardet<4,>=3.0.2 in /usr/local/lib/python3.6/dist-packages (from requests>=2.14.0->pygithub) (3.0.4)\n",
      "Requirement already satisfied: certifi>=2017.4.17 in /usr/local/lib/python3.6/dist-packages (from requests>=2.14.0->pygithub) (2020.12.5)\n",
      "Requirement already satisfied: idna<3,>=2.5 in /usr/local/lib/python3.6/dist-packages (from requests>=2.14.0->pygithub) (2.10)\n",
      "Collecting jeepney>=0.4.2; sys_platform == \"linux\"\n",
      "\u001b[?25l  Downloading https://files.pythonhosted.org/packages/51/b0/a6ea72741aaac3f37fb96d195e4ee576a103c4c04e279bc6b446a70960e1/jeepney-0.6.0-py3-none-any.whl (45kB)\n",
      "\u001b[K     |████████████████████████████████| 51kB 6.7MB/s \n",
      "\u001b[?25hCollecting SecretStorage>=3.2; sys_platform == \"linux\"\n",
      "  Downloading https://files.pythonhosted.org/packages/d9/1e/29cd69fdac7391aa51510dfd42aa70b4e6a826c8cd019ee2a8ab9ec0777f/SecretStorage-3.3.1-py3-none-any.whl\n",
      "Requirement already satisfied: six in /usr/local/lib/python3.6/dist-packages (from readme-renderer>=21.0->twine) (1.15.0)\n",
      "Requirement already satisfied: Pygments>=2.5.1 in /usr/local/lib/python3.6/dist-packages (from readme-renderer>=21.0->twine) (2.6.1)\n",
      "Requirement already satisfied: docutils>=0.13.1 in /usr/local/lib/python3.6/dist-packages (from readme-renderer>=21.0->twine) (0.16)\n",
      "Requirement already satisfied: bleach>=2.1.0 in /usr/local/lib/python3.6/dist-packages (from readme-renderer>=21.0->twine) (3.3.0)\n",
      "Requirement already satisfied: pycparser in /usr/local/lib/python3.6/dist-packages (from cffi>=1.12->cryptography->service_identity) (2.20)\n",
      "Requirement already satisfied: packaging in /usr/local/lib/python3.6/dist-packages (from bleach>=2.1.0->readme-renderer>=21.0->twine) (20.9)\n",
      "Requirement already satisfied: webencodings in /usr/local/lib/python3.6/dist-packages (from bleach>=2.1.0->readme-renderer>=21.0->twine) (0.5.1)\n",
      "Building wheels for collected packages: pypdf4, paho-mqtt\n",
      "  Building wheel for pypdf4 (setup.py) ... \u001b[?25l\u001b[?25hdone\n",
      "  Created wheel for pypdf4: filename=PyPDF4-1.27.0-cp36-none-any.whl size=61249 sha256=ba199c6950395c9d1d162c49f3378aad5988fd12626f46c6747683717485142a\n",
      "  Stored in directory: /root/.cache/pip/wheels/eb/4f/15/c64d533cb496fd874f56045fe30e8cc0ac59f99ecdd718040d\n",
      "  Building wheel for paho-mqtt (setup.py) ... \u001b[?25l\u001b[?25hdone\n",
      "  Created wheel for paho-mqtt: filename=paho_mqtt-1.5.1-cp36-none-any.whl size=61546 sha256=a9860fbc877800654567ac621063211102f14cb6a5264d40600462477fe8bfa9\n",
      "  Stored in directory: /root/.cache/pip/wheels/75/e2/f5/78942b19b4d135605e58dfe85fba52253b14d636aabf76904b\n",
      "Successfully built pypdf4 paho-mqtt\n",
      "Installing collected packages: meshio, pygmsh, ezdxf, pandoc-xnos, pandoc-fignos, pandoc-eqnos, pypdf4, cryptography, service-identity, ftd2xx, deprecated, pyjwt, pygithub, jeepney, SecretStorage, keyring, requests-toolbelt, pkginfo, colorama, rfc3986, readme-renderer, twine, paho-mqtt\n",
      "Successfully installed SecretStorage-3.3.1 colorama-0.4.4 cryptography-3.4.6 deprecated-1.2.11 ezdxf-0.15.1 ftd2xx-1.1.2 jeepney-0.6.0 keyring-22.0.1 meshio-4.3.9 paho-mqtt-1.5.1 pandoc-eqnos-2.5.0 pandoc-fignos-2.4.0 pandoc-xnos-2.5.0 pkginfo-1.7.0 pygithub-1.54.1 pygmsh-7.1.8 pyjwt-1.7.1 pypdf4-1.27.0 readme-renderer-28.0 requests-toolbelt-0.9.1 rfc3986-1.4.0 service-identity-18.1.0 twine-3.3.0\n",
      "Collecting ntplib\n",
      "  Downloading https://files.pythonhosted.org/packages/19/80/d09d5ee0eb47351a7ea057538eae869dafc2c342a4ed37ac5dea2b066c21/ntplib-0.3.4-py3-none-any.whl\n",
      "Collecting pygame\n",
      "\u001b[?25l  Downloading https://files.pythonhosted.org/packages/01/da/4ff439558641a26dd29b04c25947e6c0ace041f56b2aa2ef1134edab06b8/pygame-2.0.1-cp36-cp36m-manylinux1_x86_64.whl (11.8MB)\n",
      "\u001b[K     |████████████████████████████████| 11.8MB 6.5MB/s \n",
      "\u001b[?25hCollecting pysftp\n",
      "  Downloading https://files.pythonhosted.org/packages/36/60/45f30390a38b1f92e0a8cf4de178cd7c2bc3f874c85430e40ccf99df8fe7/pysftp-0.2.9.tar.gz\n",
      "Collecting pyserial\n",
      "\u001b[?25l  Downloading https://files.pythonhosted.org/packages/07/bc/587a445451b253b285629263eb51c2d8e9bcea4fc97826266d186f96f558/pyserial-3.5-py2.py3-none-any.whl (90kB)\n",
      "\u001b[K     |████████████████████████████████| 92kB 10.4MB/s \n",
      "\u001b[?25hCollecting paramiko>=1.17\n",
      "\u001b[?25l  Downloading https://files.pythonhosted.org/packages/95/19/124e9287b43e6ff3ebb9cdea3e5e8e88475a873c05ccdf8b7e20d2c4201e/paramiko-2.7.2-py2.py3-none-any.whl (206kB)\n",
      "\u001b[K     |████████████████████████████████| 215kB 48.2MB/s \n",
      "\u001b[?25hRequirement already satisfied: cryptography>=2.5 in /usr/local/lib/python3.6/dist-packages (from paramiko>=1.17->pysftp) (3.4.6)\n",
      "Collecting pynacl>=1.0.1\n",
      "\u001b[?25l  Downloading https://files.pythonhosted.org/packages/9d/57/2f5e6226a674b2bcb6db531e8b383079b678df5b10cdaa610d6cf20d77ba/PyNaCl-1.4.0-cp35-abi3-manylinux1_x86_64.whl (961kB)\n",
      "\u001b[K     |████████████████████████████████| 962kB 15.0MB/s \n",
      "\u001b[?25hCollecting bcrypt>=3.1.3\n",
      "\u001b[?25l  Downloading https://files.pythonhosted.org/packages/26/70/6d218afbe4c73538053c1016dd631e8f25fffc10cd01f5c272d7acf3c03d/bcrypt-3.2.0-cp36-abi3-manylinux2010_x86_64.whl (63kB)\n",
      "\u001b[K     |████████████████████████████████| 71kB 9.4MB/s \n",
      "\u001b[?25hRequirement already satisfied: cffi>=1.12 in /usr/local/lib/python3.6/dist-packages (from cryptography>=2.5->paramiko>=1.17->pysftp) (1.14.4)\n",
      "Requirement already satisfied: six in /usr/local/lib/python3.6/dist-packages (from pynacl>=1.0.1->paramiko>=1.17->pysftp) (1.15.0)\n",
      "Requirement already satisfied: pycparser in /usr/local/lib/python3.6/dist-packages (from cffi>=1.12->cryptography>=2.5->paramiko>=1.17->pysftp) (2.20)\n",
      "Building wheels for collected packages: pysftp\n",
      "  Building wheel for pysftp (setup.py) ... \u001b[?25l\u001b[?25hdone\n",
      "  Created wheel for pysftp: filename=pysftp-0.2.9-cp36-none-any.whl size=15483 sha256=b65fca8b5648ac789fd3014967cfb62e6e08fd1408ca0041a7673eb39c30a5db\n",
      "  Stored in directory: /root/.cache/pip/wheels/d4/53/02/181ea4f6c795b40c4f1d2022ba2ed15cf811d22975eb2e5968\n",
      "Successfully built pysftp\n",
      "Installing collected packages: ntplib, pygame, pynacl, bcrypt, paramiko, pysftp, pyserial\n",
      "Successfully installed bcrypt-3.2.0 ntplib-0.3.4 paramiko-2.7.2 pygame-2.0.1 pynacl-1.4.0 pyserial-3.5 pysftp-0.2.9\n",
      "Collecting pypoly2tri\n",
      "  Downloading https://files.pythonhosted.org/packages/11/33/079f13c72507fb2015e990f463f1766a756be1563a7e370e948dd2cbaafb/pypoly2tri-0.0.3-py2.py3-none-any.whl\n",
      "Collecting idealab_tools\n",
      "  Downloading https://files.pythonhosted.org/packages/c7/00/d34a536ff276a23e347e903ad52d14625d87411dff587d87fbeff33fbef2/idealab_tools-0.0.22-py2.py3-none-any.whl\n",
      "Collecting foldable_robotics\n",
      "  Downloading https://files.pythonhosted.org/packages/5d/af/a1cef62e833cca7060da3f1f25dd2f7b6afc7a9a3735862dcc12ff73b644/foldable_robotics-0.0.29-py2.py3-none-any.whl\n",
      "Collecting pynamics\n",
      "\u001b[?25l  Downloading https://files.pythonhosted.org/packages/4e/ef/c2d877610893cf7ed50c369ae5889bc119cb3c796ee678f3025fb4f2f8d6/pynamics-0.0.8-py2.py3-none-any.whl (87kB)\n",
      "\u001b[K     |████████████████████████████████| 92kB 5.5MB/s \n",
      "\u001b[?25hRequirement already satisfied: imageio in /usr/local/lib/python3.6/dist-packages (from idealab_tools) (2.4.1)\n",
      "Requirement already satisfied: numpy in /usr/local/lib/python3.6/dist-packages (from foldable_robotics) (1.19.5)\n",
      "Requirement already satisfied: matplotlib in /usr/local/lib/python3.6/dist-packages (from foldable_robotics) (3.2.2)\n",
      "Requirement already satisfied: shapely in /usr/local/lib/python3.6/dist-packages (from foldable_robotics) (1.7.1)\n",
      "Requirement already satisfied: pyyaml in /usr/local/lib/python3.6/dist-packages (from foldable_robotics) (3.13)\n",
      "Requirement already satisfied: ezdxf in /usr/local/lib/python3.6/dist-packages (from foldable_robotics) (0.15.1)\n",
      "Requirement already satisfied: scipy in /usr/local/lib/python3.6/dist-packages (from pynamics) (1.4.1)\n",
      "Requirement already satisfied: sympy in /usr/local/lib/python3.6/dist-packages (from pynamics) (1.1.1)\n",
      "Requirement already satisfied: pillow in /usr/local/lib/python3.6/dist-packages (from imageio->idealab_tools) (7.0.0)\n",
      "Requirement already satisfied: python-dateutil>=2.1 in /usr/local/lib/python3.6/dist-packages (from matplotlib->foldable_robotics) (2.8.1)\n",
      "Requirement already satisfied: pyparsing!=2.0.4,!=2.1.2,!=2.1.6,>=2.0.1 in /usr/local/lib/python3.6/dist-packages (from matplotlib->foldable_robotics) (2.4.7)\n",
      "Requirement already satisfied: cycler>=0.10 in /usr/local/lib/python3.6/dist-packages (from matplotlib->foldable_robotics) (0.10.0)\n",
      "Requirement already satisfied: kiwisolver>=1.0.1 in /usr/local/lib/python3.6/dist-packages (from matplotlib->foldable_robotics) (1.3.1)\n",
      "Requirement already satisfied: mpmath>=0.19 in /usr/local/lib/python3.6/dist-packages (from sympy->pynamics) (1.1.0)\n",
      "Requirement already satisfied: six>=1.5 in /usr/local/lib/python3.6/dist-packages (from python-dateutil>=2.1->matplotlib->foldable_robotics) (1.15.0)\n",
      "Installing collected packages: pypoly2tri, idealab-tools, foldable-robotics, pynamics\n",
      "Successfully installed foldable-robotics-0.0.29 idealab-tools-0.0.22 pynamics-0.0.8 pypoly2tri-0.0.3\n"
     ]
    }
   ],
   "source": [
    "# RUN PIP INSTALL CODE BLOCK\n",
    "\n",
    "# Install standard packages...\n",
    "!pip install meshio pygmsh ezdxf pandoc-fignos pandoc-eqnos pypdf4 service_identity ftd2xx pygithub twine paho-mqtt\n",
    "!pip install ntplib pygame pysftp pyserial\n",
    "\n",
    "# Install foldable-robotics-specific packages.\n",
    "!pip install pypoly2tri idealab_tools foldable_robotics pynamics"
   ]
  },
  {
   "cell_type": "markdown",
   "metadata": {
    "id": "wnLDAzMjso9e"
   },
   "source": [
    "**3. **Using a pynamics-based script, develop a kinematic model for your device. Following the triple pendulum example,\n",
    "\n",
    "1. Import packages\n",
    "2. Define variables and constants (you may want to add, remove, or rename variables to match your figure)\n",
    "3. Declare frames (you may need to add frames or rename them)\n",
    "4. Define frame rotations (you may want to switch the axis about which frames rotate)\n",
    "5. Compose kinematics (this depends entirely on the geometry of your system)\n",
    "6. Take time-derivatives of position vectors\n",
    "7. Assemble into a Jacobian that maps input velocities to output velocities."
   ]
  },
  {
   "cell_type": "code",
   "execution_count": 2,
   "metadata": {
    "executionInfo": {
     "elapsed": 27990,
     "status": "ok",
     "timestamp": 1613792346043,
     "user": {
      "displayName": "Chien-Wen Pan",
      "photoUrl": "",
      "userId": "05656865594938849414"
     },
     "user_tz": 420
    },
    "id": "divine-presence"
   },
   "outputs": [],
   "source": [
    "#%% Develope a kinematic model\n",
    "\n",
    "# import pachages\n",
    "import pynamics\n",
    "from pynamics.frame import Frame\n",
    "from pynamics.variable_types import Differentiable,Constant\n",
    "from pynamics.system import System\n",
    "#from pynamics.body import Body\n",
    "#from pynamics.dyadic import Dyadic\n",
    "from pynamics.output import Output,PointsOutput\n",
    "#from pynamics.particle import Particle\n",
    "import pynamics.integration\n",
    "import sympy\n",
    "import numpy\n",
    "import matplotlib.pyplot as plt\n",
    "plt.ion()\n",
    "from math import pi\n",
    "#from pynamics.constraint import Constraint\n",
    "import scipy.optimize\n",
    "\n",
    "\n",
    "# Create Pynamic system\n",
    "system = System()\n",
    "pynamics.set_system(__name__,system)\n",
    "\n",
    "\n",
    "# Define constants and vaiables\n",
    "lA = Constant(6,'lA',system)\n",
    "lB = Constant(18,'lB',system)\n",
    "lC = Constant(6,'lC',system)\n",
    "lD = Constant(3,'lD',system)\n",
    "\n",
    "\n",
    "qA,qA_d,qA_dd = Differentiable('qA',system)\n",
    "qB,qB_d,qB_dd = Differentiable('qB',system)\n",
    "qC,qC_d,qC_dd = Differentiable('qC',system)\n",
    "\n",
    "\n",
    "initialvalues = {}\n",
    "initialvalues[qA]=-90*pi/180\n",
    "initialvalues[qA_d]=0*pi/180\n",
    "initialvalues[qB]=90*pi/180\n",
    "initialvalues[qB_d]=0*pi/180\n",
    "initialvalues[qC]=90*pi/180\n",
    "initialvalues[qC_d]=0*pi/180\n",
    "\n",
    "\n",
    "statevariables = system.get_state_variables()\n",
    "\n",
    "\n",
    "# Define frames and frames rotations\n",
    "N = Frame('N')\n",
    "A = Frame('A')\n",
    "B = Frame('B')\n",
    "C = Frame('C')\n",
    "\n",
    "\n",
    "system.set_newtonian(N)\n",
    "\n",
    "A.rotate_fixed_axis_directed(N,[0,0,1],qA,system)\n",
    "B.rotate_fixed_axis_directed(A,[0,0,1],qB,system)\n",
    "C.rotate_fixed_axis_directed(B,[0,0,1],qC,system)\n",
    "\n",
    "\n",
    "# Define kinematics\n",
    "\n",
    "pNA = 0*N.x + 0*N.y\n",
    "pAB = pNA + lA*A.x\n",
    "pBC = pAB + lB*B.x\n",
    "pBmid = pAB + lD*B.x\n",
    "pCtip = pBmid + lC*C.x\n",
    "pD = lD*N.x\n",
    "\n",
    "points = [pNA,pAB,pBC,pBmid,pCtip]\n",
    "\n",
    "\n",
    "# Take time derivatives of position vectors\n",
    "vNA = pNA.time_derivative()\n",
    "vAB = pAB.time_derivative()\n",
    "vBC = pBC.time_derivative()\n",
    "vBmid = pBmid.time_derivative()\n",
    "vCtip = pCtip.time_derivative()\n",
    "vD = pD.time_derivative()\n",
    "\n",
    "\n",
    "# Form Jacobian\n",
    "# The relaionship of input velocity and output velocity of this device is: vBC = J*qA_d\n",
    "\n",
    "\n",
    "statevariables = system.get_state_variables()\n",
    "ini0 = [initialvalues[item] for item in statevariables]\n",
    "\n",
    "# Define constraints\n",
    "eq_vector = pCtip-pD\n",
    "\n",
    "eq = []\n",
    "eq.append((eq_vector).dot(N.x))\n",
    "eq.append((eq_vector).dot(N.y))\n",
    "eq_d=[(system.derivative(item)) for item in eq]"
   ]
  },
  {
   "cell_type": "markdown",
   "metadata": {
    "id": "forward-citation"
   },
   "source": [
    "**4. **Select or Solve for a valid initial condition that represents the system in the middle of a typical gait, when it is both moving and when forces are being applied to it (or to the world by it)\n",
    "\n",
    "Despite the fact that you will be using a symbolic representation, you still need to solve for a valid initial condition if your device is a “parallel mechanism.” This may be done using a nonlinear solver such as scipy.optimize.minimize"
   ]
  },
  {
   "cell_type": "code",
   "execution_count": 3,
   "metadata": {
    "executionInfo": {
     "elapsed": 31129,
     "status": "ok",
     "timestamp": 1613792349185,
     "user": {
      "displayName": "Chien-Wen Pan",
      "photoUrl": "",
      "userId": "05656865594938849414"
     },
     "user_tz": 420
    },
    "id": "zNFMxq4VjESq"
   },
   "outputs": [],
   "source": [
    "#%% Solve for initial condition\n",
    "qi = [qA]\n",
    "qd = [qB,qC]\n",
    "\n",
    "constants = system.constant_values.copy()\n",
    "defined = dict([(item,initialvalues[item]) for item in qi])\n",
    "constants.update(defined)\n",
    "\n",
    "eq = [item.subs(constants) for item in eq]\n",
    "\n",
    "\n",
    "error = (numpy.array(eq)**2).sum()\n",
    "\n",
    "\n",
    "f = sympy.lambdify(qd,error)\n",
    "\n",
    "def function(args):\n",
    "    return f(*args)\n",
    "\n",
    "\n",
    "#Take the derivative of the equations to linearize with regard to the velocity variables\n",
    "guess = [initialvalues[item] for item in qd]\n",
    "\n",
    "\n",
    "result = scipy.optimize.minimize(function,guess)\n",
    "if result.fun>1e-3:\n",
    "    raise(Exception(\"out of tolerance\"))\n",
    "    \n",
    "    \n",
    "ini = []\n",
    "for item in system.get_state_variables():\n",
    "    if item in qd:\n",
    "        ini.append(result.x[qd.index(item)])\n",
    "    else:\n",
    "        ini.append(initialvalues[item])\n",
    "        \n",
    "        \n",
    "# Find Jacobian\n",
    "eq_d = sympy.Matrix(eq_d)\n",
    "\n",
    "qi = sympy.Matrix([qA_d])\n",
    "qd = sympy.Matrix([qB_d,qC_d])\n",
    "\n",
    "AA = eq_d.jacobian(qi)\n",
    "BB = eq_d.jacobian(qd)\n",
    "\n",
    "J = -BB.inv()*AA\n",
    "J.simplify()\n",
    "\n",
    "# Solve for dependent variables\n",
    "qd2 = J*qi\n",
    "\n",
    "\n",
    "subs = dict([(ii,jj) for ii,jj in zip(qd,qd2)])\n",
    "\n",
    "pout = pBC\n",
    "vout = pout.time_derivative()\n",
    "vout = vout.subs(subs)"
   ]
  },
  {
   "cell_type": "markdown",
   "metadata": {
    "id": "medium-treat"
   },
   "source": [
    "**5.** Plot the system in this position."
   ]
  },
  {
   "cell_type": "code",
   "execution_count": 4,
   "metadata": {
    "colab": {
     "base_uri": "https://localhost:8080/",
     "height": 318
    },
    "executionInfo": {
     "elapsed": 31514,
     "status": "ok",
     "timestamp": 1613792349577,
     "user": {
      "displayName": "Chien-Wen Pan",
      "photoUrl": "",
      "userId": "05656865594938849414"
     },
     "user_tz": 420
    },
    "id": "ZYMyKvoljBmQ",
    "outputId": "16c07d36-55a2-493a-b041-fd7cb32272de"
   },
   "outputs": [
    {
     "name": "stderr",
     "output_type": "stream",
     "text": [
      "2021-02-20 03:39:09,029 - pynamics.output - INFO - calculating outputs\n",
      "2021-02-20 03:39:09,031 - pynamics.output - INFO - done calculating outputs\n"
     ]
    },
    {
     "data": {
      "text/plain": [
       "<matplotlib.axes._subplots.AxesSubplot at 0x7f7f75c5dd30>"
      ]
     },
     "execution_count": 4,
     "metadata": {
      "tags": []
     },
     "output_type": "execute_result"
    },
    {
     "data": {
      "image/png": "[encoded data removed]",
      "text/plain": [
       "<Figure size 432x288 with 1 Axes>"
      ]
     },
     "metadata": {
      "needs_background": "light",
      "tags": []
     },
     "output_type": "display_data"
    }
   ],
   "source": [
    "# Plot the system\n",
    "        \n",
    "points = PointsOutput(points, constant_values=system.constant_values)\n",
    "points.calc(numpy.array([ini0,ini]))\n",
    "points.plot_time()"
   ]
  },
  {
   "cell_type": "markdown",
   "metadata": {
    "id": "canadian-snapshot"
   },
   "source": [
    "6. From your biomechanics-based specifications, define one or more force vector estimates (one for each end effector) that the system should be expected to experience."
   ]
  },
  {
   "cell_type": "code",
   "execution_count": 5,
   "metadata": {
    "executionInfo": {
     "elapsed": 31513,
     "status": "ok",
     "timestamp": 1613792349579,
     "user": {
      "displayName": "Chien-Wen Pan",
      "photoUrl": "",
      "userId": "05656865594938849414"
     },
     "user_tz": 420
    },
    "id": "fBLhIwgmeBEF"
   },
   "outputs": [],
   "source": [
    "# Define force at end-effector\n",
    "\n",
    "# From out biomechanics background research, the maximum force needed to push the jaw during the motion is 0.22 N.\n",
    "# Scale the size, our maximum force experienced by the end-effector will be around 0.5 N. (From acceleration)\n",
    "F_a_max = sympy.Matrix([0.5,0])\n",
    "\n",
    "# There's no ground reaction force during the motion\n",
    "\n"
   ]
  },
  {
   "cell_type": "markdown",
   "metadata": {
    "id": "pregnant-spotlight"
   },
   "source": [
    "7. Calculate the force or torque required at the input to satisfy the end-effector force requirements"
   ]
  },
  {
   "cell_type": "code",
   "execution_count": 6,
   "metadata": {
    "colab": {
     "base_uri": "https://localhost:8080/"
    },
    "executionInfo": {
     "elapsed": 31509,
     "status": "ok",
     "timestamp": 1613792349580,
     "user": {
      "displayName": "Chien-Wen Pan",
      "photoUrl": "",
      "userId": "05656865594938849414"
     },
     "user_tz": 420
    },
    "id": "twfjL553tK_8",
    "outputId": "17cc4c82-3747-4511-bd4c-28b1bc8734fa"
   },
   "outputs": [
    {
     "data": {
      "text/plain": [
       "⎡     ⎛lA⋅sin(qB)                  ⎞ ⎤\n",
       "⎢-0.5⋅⎜────────── + lA⋅cos(qB) + lD⎟ ⎥\n",
       "⎢     ⎝ tan(qC)                    ⎠ ⎥\n",
       "⎢────────────────────────────────────⎥\n",
       "⎣                 lD                 ⎦"
      ]
     },
     "execution_count": 6,
     "metadata": {
      "tags": []
     },
     "output_type": "execute_result"
    }
   ],
   "source": [
    "t_max = J.T*F_a_max\n",
    "t_max"
   ]
  },
  {
   "cell_type": "markdown",
   "metadata": {
    "id": "aggregate-ready"
   },
   "source": [
    "8. Estimate the velocity of the end-effector in this configuration. Using the Jacobian, calculate the speed required by the input(s) to achieve that output motion."
   ]
  },
  {
   "cell_type": "code",
   "execution_count": 7,
   "metadata": {
    "colab": {
     "base_uri": "https://localhost:8080/"
    },
    "executionInfo": {
     "elapsed": 31506,
     "status": "ok",
     "timestamp": 1613792349581,
     "user": {
      "displayName": "Chien-Wen Pan",
      "photoUrl": "",
      "userId": "05656865594938849414"
     },
     "user_tz": 420
    },
    "id": "JPR2l-IgtPfq",
    "outputId": "42482666-6341-4d94-b3da-423c287f4a88"
   },
   "outputs": [
    {
     "data": {
      "text/plain": [
       "⎡      ⎛lA⋅sin(qB)                  ⎞ ⎤\n",
       "⎢-2.31⋅⎜────────── + lA⋅cos(qB) + lD⎟ ⎥\n",
       "⎢      ⎝ tan(qC)                    ⎠ ⎥\n",
       "⎢─────────────────────────────────────⎥\n",
       "⎣                  lD                 ⎦"
      ]
     },
     "execution_count": 7,
     "metadata": {
      "tags": []
     },
     "output_type": "execute_result"
    }
   ],
   "source": [
    "# From our biomechanics studying, the mean max speed is 2.31 m/s\n",
    "v_max = sympy.Matrix([2.31,0])\n",
    "qA_d_max = J.T*v_max\n",
    "qA_d_max"
   ]
  },
  {
   "cell_type": "markdown",
   "metadata": {
    "id": "assured-expression"
   },
   "source": [
    "9. Finally, using the two estimates about force and speed at the input, compute the required power in this configuration."
   ]
  },
  {
   "cell_type": "code",
   "execution_count": 8,
   "metadata": {
    "colab": {
     "base_uri": "https://localhost:8080/"
    },
    "executionInfo": {
     "elapsed": 31501,
     "status": "ok",
     "timestamp": 1613792349582,
     "user": {
      "displayName": "Chien-Wen Pan",
      "photoUrl": "",
      "userId": "05656865594938849414"
     },
     "user_tz": 420
    },
    "id": "1jk2E6zmtUHt",
    "outputId": "37cdbd1f-e41b-48f5-f358-2dddf20f3093"
   },
   "outputs": [
    {
     "data": {
      "text/plain": [
       "⎡                                    2⎤\n",
       "⎢      ⎛lA⋅sin(qB)                  ⎞ ⎥\n",
       "⎢1.155⋅⎜────────── + lA⋅cos(qB) + lD⎟ ⎥\n",
       "⎢      ⎝ tan(qC)                    ⎠ ⎥\n",
       "⎢─────────────────────────────────────⎥\n",
       "⎢                   2                 ⎥\n",
       "⎣                 lD                  ⎦"
      ]
     },
     "execution_count": 8,
     "metadata": {
      "tags": []
     },
     "output_type": "execute_result"
    }
   ],
   "source": [
    "P_max = t_max*qA_d_max.T\n",
    "P_max"
   ]
  },
  {
   "cell_type": "markdown",
   "metadata": {
    "id": "nl_siElgrACS"
   },
   "source": [
    "**Discussion**\n",
    "\n",
    "Answer the following questions\n",
    "\n",
    "1. How many degrees of freedom does your device have? How many motors? If the answer is not the same, what determines the state of the remaining degrees of freedom? How did you arrive at that number?\n",
    "\n",
    "The device has one degree of freedom as of now. So only one motor as of now. But the degrees of freedom will change after we design the end effector for the system. So more motors may be required. Once the end effector is designed, the team's website will be updated with the total degrees of freedom for the system and the total number of motor that will be finally used.\n",
    "\n",
    "\n",
    "\n",
    "2. If your mechanism has more than one degree of freedom, please describe how those multiple degrees of freedom will work togehter to create a locomotory gait or useful motion. What is your plan for synchonizing, especially if passive energy storage?\n",
    "\n",
    "The mechanism currenlty has only one degree of freedom. The descripion about how the system will work together to create a locomotory gait or useful motion will be added to the team's website after the end effector is designed and more degrees of freedom are added to the system later. The plan for synchronizing will also be updated on the team's website after the end effector is designed.\n",
    "\n",
    "\n",
    "\n",
    "3. How did you estimate your expected end-effector forces ? \n",
    "\n",
    "From our biomechanics studying, what we know is the maximum acceleration during the motion, we assume acceleration profiles are sinusoidal. Therefore, maximum acceleration happens at t = 0, goes to 0 at the midpoint and becomes negative from midpoint to reaching the prey.\n",
    "We also know the mass of the device; therefore, we can compute the force profile required for our device by using F = m*a.\n",
    "\n",
    "\n",
    "\n",
    "4. How did you estimate your expected end-effector speeds ?\n",
    "\n",
    "From literatures, we found the maximum speed and we know the speed at the initial point and final point is 0. Then, we just assume the speed profile is a sinusoildal function and fit the known parameters into the function."
   ]
  },
  {
   "cell_type": "code",
   "execution_count": 8,
   "metadata": {
    "executionInfo": {
     "elapsed": 31501,
     "status": "ok",
     "timestamp": 1613792349584,
     "user": {
      "displayName": "Chien-Wen Pan",
      "photoUrl": "",
      "userId": "05656865594938849414"
     },
     "user_tz": 420
    },
    "id": "RUGuJY4gg0Jq"
   },
   "outputs": [],
   "source": []
  }
 ],
 "metadata": {
  "colab": {
   "collapsed_sections": [],
   "name": "System Kinematics.ipynb",
   "provenance": []
  },
  "kernelspec": {
   "display_name": "Python 3",
   "language": "python",
   "name": "python3"
  },
  "language_info": {
   "codemirror_mode": {
    "name": "ipython",
    "version": 3
   },
   "file_extension": ".py",
   "mimetype": "text/x-python",
   "name": "python",
   "nbconvert_exporter": "python",
   "pygments_lexer": "ipython3",
   "version": "3.8.5"
  }
 },
 "nbformat": 4,
 "nbformat_minor": 5
}
