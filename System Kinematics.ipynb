{
 "cells": [
  {
   "cell_type": "markdown",
   "metadata": {
    "id": "center-scientist"
   },
   "source": [
    "EGR 557 Foldable Robotics\n",
    "System Kinematics\n",
    "Team 7"
   ]
  },
  {
   "cell_type": "code",
   "execution_count": 2,
   "metadata": {
    "colab": {
     "base_uri": "https://localhost:8080/"
    },
    "executionInfo": {
     "elapsed": 8873,
     "status": "ok",
     "timestamp": 1613776892288,
     "user": {
      "displayName": "Chien-Wen Pan",
      "photoUrl": "",
      "userId": "05656865594938849414"
     },
     "user_tz": 420
    },
    "id": "Dd5ocjDzjvZL",
    "outputId": "27c40cb6-6a45-4c54-ded1-c3ba91dde780"
   },
   "outputs": [
    {
     "name": "stdout",
     "output_type": "stream",
     "text": [
      "/bin/sh: pip: command not found\n",
      "/bin/sh: pip: command not found\n",
      "/bin/sh: pip: command not found\n"
     ]
    }
   ],
   "source": [
    "# RUN PIP INSTALL CODE BLOCK\n",
    "\n",
    "# Install standard packages...\n",
    "!pip install meshio pygmsh ezdxf pandoc-fignos pandoc-eqnos pypdf4 service_identity ftd2xx pygithub twine paho-mqtt\n",
    "!pip install ntplib pygame pysftp pyserial\n",
    "\n",
    "# Install foldable-robotics-specific packages.\n",
    "!pip install pypoly2tri idealab_tools foldable_robotics pynamics"
   ]
  },
  {
   "cell_type": "markdown",
   "metadata": {
    "id": "wnLDAzMjso9e"
   },
   "source": [
    "**3. **Using a pynamics-based script, develop a kinematic model for your device. Following the triple pendulum example,\n",
    "\n",
    "1. Import packages\n",
    "2. Define variables and constants (you may want to add, remove, or rename variables to match your figure)\n",
    "3. Declare frames (you may need to add frames or rename them)\n",
    "4. Define frame rotations (you may want to switch the axis about which frames rotate)\n",
    "5. Compose kinematics (this depends entirely on the geometry of your system)\n",
    "6. Take time-derivatives of position vectors\n",
    "7. Assemble into a Jacobian that maps input velocities to output velocities."
   ]
  },
  {
   "cell_type": "code",
   "execution_count": 10,
   "metadata": {
    "executionInfo": {
     "elapsed": 8868,
     "status": "ok",
     "timestamp": 1613776892289,
     "user": {
      "displayName": "Chien-Wen Pan",
      "photoUrl": "",
      "userId": "05656865594938849414"
     },
     "user_tz": 420
    },
    "id": "divine-presence"
   },
   "outputs": [],
   "source": [
    "#%% Develope a kinematic model\n",
    "\n",
    "# import pachages\n",
    "import pynamics\n",
    "from pynamics.frame import Frame\n",
    "from pynamics.variable_types import Differentiable,Constant\n",
    "from pynamics.system import System\n",
    "#from pynamics.body import Body\n",
    "#from pynamics.dyadic import Dyadic\n",
    "from pynamics.output import Output,PointsOutput\n",
    "#from pynamics.particle import Particle\n",
    "import pynamics.integration\n",
    "import sympy\n",
    "import numpy\n",
    "import matplotlib.pyplot as plt\n",
    "plt.ion()\n",
    "from math import pi\n",
    "#from pynamics.constraint import Constraint\n",
    "import scipy.optimize\n",
    "\n",
    "\n",
    "# Create Pynamic system\n",
    "system = System()\n",
    "pynamics.set_system(__name__,system)\n",
    "\n",
    "\n",
    "# Define constants and vaiables\n",
    "lA = Constant(6,'lA',system)\n",
    "lB = Constant(18,'lB',system)\n",
    "lC = Constant(6,'lC',system)\n",
    "lD = Constant(3,'lD',system)\n",
    "\n",
    "\n",
    "qA,qA_d,qA_dd = Differentiable('qA',system)\n",
    "qB,qB_d,qB_dd = Differentiable('qB',system)\n",
    "qC,qC_d,qC_dd = Differentiable('qC',system)\n",
    "\n",
    "\n",
    "initialvalues = {}\n",
    "initialvalues[qA]=-90*pi/180\n",
    "initialvalues[qA_d]=0*pi/180\n",
    "initialvalues[qB]=90*pi/180\n",
    "initialvalues[qB_d]=0*pi/180\n",
    "initialvalues[qC]=90*pi/180\n",
    "initialvalues[qC_d]=0*pi/180\n",
    "\n",
    "\n",
    "statevariables = system.get_state_variables()\n",
    "\n",
    "\n",
    "# Define frames and frames rotations\n",
    "N = Frame('N')\n",
    "A = Frame('A')\n",
    "B = Frame('B')\n",
    "C = Frame('C')\n",
    "\n",
    "\n",
    "system.set_newtonian(N)\n",
    "\n",
    "A.rotate_fixed_axis_directed(N,[0,0,1],qA,system)\n",
    "B.rotate_fixed_axis_directed(A,[0,0,1],qB,system)\n",
    "C.rotate_fixed_axis_directed(B,[0,0,1],qC,system)\n",
    "\n",
    "\n",
    "# Define kinematics\n",
    "\n",
    "pNA = 0*N.x + 0*N.y\n",
    "pAB = pNA + lA*A.x\n",
    "pBC = pAB + lB*B.x\n",
    "pBmid = pAB + lD*B.x\n",
    "pCtip = pBmid + lC*C.x\n",
    "pD = lD*N.x\n",
    "\n",
    "points = [pNA,pAB,pBC,pBmid,pCtip]\n",
    "\n",
    "\n",
    "# Take time derivatives of position vectors\n",
    "vNA = pNA.time_derivative()\n",
    "vAB = pAB.time_derivative()\n",
    "vBC = pBC.time_derivative()\n",
    "vBmid = pBmid.time_derivative()\n",
    "vCtip = pCtip.time_derivative()\n",
    "vD = pD.time_derivative()\n",
    "\n",
    "\n",
    "# Form Jacobian\n",
    "# The relaionship of input velocity and output velocity of this device is: vBC = J*qA_d\n",
    "\n",
    "\n",
    "statevariables = system.get_state_variables()\n",
    "ini0 = [initialvalues[item] for item in statevariables]\n",
    "\n",
    "# Define constraints\n",
    "eq_vector = pCtip-pD\n",
    "\n",
    "eq = []\n",
    "eq.append((eq_vector).dot(N.x))\n",
    "eq.append((eq_vector).dot(N.y))\n",
    "eq_d=[(system.derivative(item)) for item in eq]"
   ]
  },
  {
   "cell_type": "markdown",
   "metadata": {
    "id": "forward-citation"
   },
   "source": [
    "**4. **Select or Solve for a valid initial condition that represents the system in the middle of a typical gait, when it is both moving and when forces are being applied to it (or to the world by it)\n",
    "\n",
    "Despite the fact that you will be using a symbolic representation, you still need to solve for a valid initial condition if your device is a “parallel mechanism.” This may be done using a nonlinear solver such as scipy.optimize.minimize"
   ]
  },
  {
   "cell_type": "code",
   "execution_count": 11,
   "metadata": {
    "executionInfo": {
     "elapsed": 11595,
     "status": "ok",
     "timestamp": 1613776895019,
     "user": {
      "displayName": "Chien-Wen Pan",
      "photoUrl": "",
      "userId": "05656865594938849414"
     },
     "user_tz": 420
    },
    "id": "zNFMxq4VjESq"
   },
   "outputs": [],
   "source": [
    "#%% Solve for initial condition\n",
    "qi = [qA]\n",
    "qd = [qB,qC]\n",
    "\n",
    "constants = system.constant_values.copy()\n",
    "defined = dict([(item,initialvalues[item]) for item in qi])\n",
    "constants.update(defined)\n",
    "\n",
    "eq = [item.subs(constants) for item in eq]\n",
    "\n",
    "\n",
    "error = (numpy.array(eq)**2).sum()\n",
    "\n",
    "\n",
    "f = sympy.lambdify(qd,error)\n",
    "\n",
    "def function(args):\n",
    "    return f(*args)\n",
    "\n",
    "\n",
    "#Take the derivative of the equations to linearize with regard to the velocity variables\n",
    "guess = [initialvalues[item] for item in qd]\n",
    "\n",
    "\n",
    "result = scipy.optimize.minimize(function,guess)\n",
    "if result.fun>1e-3:\n",
    "    raise(Exception(\"out of tolerance\"))\n",
    "    \n",
    "    \n",
    "ini = []\n",
    "for item in system.get_state_variables():\n",
    "    if item in qd:\n",
    "        ini.append(result.x[qd.index(item)])\n",
    "    else:\n",
    "        ini.append(initialvalues[item])\n",
    "        \n",
    "        \n",
    "# Find Jacobian\n",
    "eq_d = sympy.Matrix(eq_d)\n",
    "\n",
    "qi = sympy.Matrix([qA_d])\n",
    "qd = sympy.Matrix([qB_d,qC_d])\n",
    "\n",
    "AA = eq_d.jacobian(qi)\n",
    "BB = eq_d.jacobian(qd)\n",
    "\n",
    "J = -BB.inv()*AA\n",
    "J.simplify()\n",
    "\n",
    "# Solve for dependent variables\n",
    "qd2 = J*qi\n",
    "\n",
    "\n",
    "subs = dict([(ii,jj) for ii,jj in zip(qd,qd2)])\n",
    "\n",
    "pout = pBC\n",
    "vout = pout.time_derivative()\n",
    "vout = vout.subs(subs)"
   ]
  },
  {
   "cell_type": "markdown",
   "metadata": {
    "id": "medium-treat"
   },
   "source": [
    "**5.** Plot the system in this position."
   ]
  },
  {
   "cell_type": "code",
   "execution_count": 12,
   "metadata": {
    "colab": {
     "base_uri": "https://localhost:8080/",
     "height": 316
    },
    "executionInfo": {
     "elapsed": 11887,
     "status": "ok",
     "timestamp": 1613776895313,
     "user": {
      "displayName": "Chien-Wen Pan",
      "photoUrl": "",
      "userId": "05656865594938849414"
     },
     "user_tz": 420
    },
    "id": "ZYMyKvoljBmQ",
    "outputId": "cb6572a6-80e8-4a47-890f-d6ef75539989"
   },
   "outputs": [
    {
     "name": "stderr",
     "output_type": "stream",
     "text": [
      "2021-02-19 18:44:15,612 - pynamics.output - INFO - calculating outputs\n",
      "2021-02-19 18:44:15,613 - pynamics.output - INFO - done calculating outputs\n"
     ]
    },
    {
     "data": {
      "image/png": "[encoded data removed]",
      "text/plain": [
       "<Figure size 432x288 with 1 Axes>"
      ]
     },
     "metadata": {
      "needs_background": "light"
     },
     "output_type": "display_data"
    }
   ],
   "source": [
    "# Plot the system\n",
    "        \n",
    "points = PointsOutput(points, constant_values=system.constant_values)\n",
    "points.calc(numpy.array([ini0,ini]))\n",
    "points.plot_time()"
   ]
  },
  {
   "cell_type": "markdown",
   "metadata": {
    "id": "canadian-snapshot"
   },
   "source": [
    "6. From your biomechanics-based specifications, define one or more force vector estimates (one for each end effector) that the system should be expected to experience."
   ]
  },
  {
   "cell_type": "code",
   "execution_count": 13,
   "metadata": {
    "executionInfo": {
     "elapsed": 11886,
     "status": "ok",
     "timestamp": 1613776895314,
     "user": {
      "displayName": "Chien-Wen Pan",
      "photoUrl": "",
      "userId": "05656865594938849414"
     },
     "user_tz": 420
    },
    "id": "fBLhIwgmeBEF"
   },
   "outputs": [],
   "source": [
    "# Define force at end-effector\n",
    "\n",
    "# From out biomechanics background research, the maximum force needed to push the jaw during the motion is 0.22 N.\n",
    "# Scale the size, our maximum force experienced by the end-effector will be around 0.5 N. (From acceleration)\n",
    "F_a_max = sympy.Matrix([0.5,0])\n",
    "\n",
    "# There's no ground reaction force during the motion\n",
    "\n"
   ]
  },
  {
   "cell_type": "markdown",
   "metadata": {
    "id": "pregnant-spotlight"
   },
   "source": [
    "7. Calculate the force or torque required at the input to satisfy the end-effector force requirements"
   ]
  },
  {
   "cell_type": "code",
   "execution_count": 14,
   "metadata": {
    "colab": {
     "base_uri": "https://localhost:8080/"
    },
    "executionInfo": {
     "elapsed": 11885,
     "status": "ok",
     "timestamp": 1613776895315,
     "user": {
      "displayName": "Chien-Wen Pan",
      "photoUrl": "",
      "userId": "05656865594938849414"
     },
     "user_tz": 420
    },
    "id": "twfjL553tK_8",
    "outputId": "c186723d-f67c-42db-f8d6-dd148b161cc7"
   },
   "outputs": [
    {
     "data": {
      "text/plain": [
       "⎡     ⎛lA⋅sin(qB)                  ⎞ ⎤\n",
       "⎢-0.5⋅⎜────────── + lA⋅cos(qB) + lD⎟ ⎥\n",
       "⎢     ⎝ tan(qC)                    ⎠ ⎥\n",
       "⎢────────────────────────────────────⎥\n",
       "⎣                 lD                 ⎦"
      ]
     },
     "execution_count": 14,
     "metadata": {},
     "output_type": "execute_result"
    }
   ],
   "source": [
    "t_max = J.T*F_a_max\n",
    "t_max"
   ]
  },
  {
   "cell_type": "markdown",
   "metadata": {
    "id": "aggregate-ready"
   },
   "source": [
    "8. Estimate the velocity of the end-effector in this configuration. Using the Jacobian, calculate the speed required by the input(s) to achieve that output motion."
   ]
  },
  {
   "cell_type": "code",
   "execution_count": 15,
   "metadata": {
    "colab": {
     "base_uri": "https://localhost:8080/"
    },
    "executionInfo": {
     "elapsed": 11884,
     "status": "ok",
     "timestamp": 1613776895316,
     "user": {
      "displayName": "Chien-Wen Pan",
      "photoUrl": "",
      "userId": "05656865594938849414"
     },
     "user_tz": 420
    },
    "id": "JPR2l-IgtPfq",
    "outputId": "97ff437c-80ad-4919-ade4-89b590b664c2"
   },
   "outputs": [
    {
     "data": {
      "text/plain": [
       "⎡      ⎛lA⋅sin(qB)                  ⎞ ⎤\n",
       "⎢-2.31⋅⎜────────── + lA⋅cos(qB) + lD⎟ ⎥\n",
       "⎢      ⎝ tan(qC)                    ⎠ ⎥\n",
       "⎢─────────────────────────────────────⎥\n",
       "⎣                  lD                 ⎦"
      ]
     },
     "execution_count": 15,
     "metadata": {},
     "output_type": "execute_result"
    }
   ],
   "source": [
    "# From our biomechanics studying, the mean max speed is 2.31 m/s\n",
    "v_max = sympy.Matrix([2.31,0])\n",
    "qA_d_max = J.T*v_max\n",
    "qA_d_max"
   ]
  },
  {
   "cell_type": "markdown",
   "metadata": {
    "id": "assured-expression"
   },
   "source": [
    "9. Finally, using the two estimates about force and speed at the input, compute the required power in this configuration."
   ]
  },
  {
   "cell_type": "code",
   "execution_count": 16,
   "metadata": {
    "colab": {
     "base_uri": "https://localhost:8080/"
    },
    "executionInfo": {
     "elapsed": 11882,
     "status": "ok",
     "timestamp": 1613776895317,
     "user": {
      "displayName": "Chien-Wen Pan",
      "photoUrl": "",
      "userId": "05656865594938849414"
     },
     "user_tz": 420
    },
    "id": "1jk2E6zmtUHt",
    "outputId": "69b6c31f-8378-4128-b41f-9127968aebf0"
   },
   "outputs": [
    {
     "data": {
      "text/plain": [
       "⎡                                    2⎤\n",
       "⎢      ⎛lA⋅sin(qB)                  ⎞ ⎥\n",
       "⎢1.155⋅⎜────────── + lA⋅cos(qB) + lD⎟ ⎥\n",
       "⎢      ⎝ tan(qC)                    ⎠ ⎥\n",
       "⎢─────────────────────────────────────⎥\n",
       "⎢                   2                 ⎥\n",
       "⎣                 lD                  ⎦"
      ]
     },
     "execution_count": 16,
     "metadata": {},
     "output_type": "execute_result"
    }
   ],
   "source": [
    "P_max = t_max*qA_d_max.T\n",
    "P_max"
   ]
  },
  {
   "cell_type": "markdown",
   "metadata": {
    "id": "nl_siElgrACS"
   },
   "source": [
    "**Discussion**\n",
    "\n",
    "Answer the following questions\n",
    "\n",
    "1. How many degrees of freedom does your device have? How many motors? If the answer is not the same, what determines the state of the remaining degrees of freedom? How did you arrive at that number?\n",
    "\n",
    "The device has one degree of freedom as of now. So only one motor as of now. But the degrees of freedom will change after we design the end effector for the system. So more motors may be required. Once the end effector is designed, the team's website will be updated with the total degrees of freedom for the system and the total number of motor that will be finally used.\n",
    "\n",
    "\n",
    "\n",
    "2. If your mechanism has more than one degree of freedom, please describe how those multiple degrees of freedom will work togehter to create a locomotory gait or useful motion. What is your plan for synchonizing, especially if passive energy storage?\n",
    "\n",
    "The mechanism currenlty has only one degree of freedom. The descripion about how the system will work together to create a locomotory gait or useful motion will be added to the team's website after the end effector is designed and more degrees of freedom are added to the system later. The plan for synchronizing will also be updated on the team's website after the end effector is designed.\n",
    "\n",
    "\n",
    "\n",
    "3. How did you estimate your expected end-effector forces ? \n",
    "\n",
    "From our biomechanics studying, what we know is the maximum acceleration during the motion, we assume acceleration profiles are sinusoidal. Therefore, maximum acceleration happens at t = 0, goes to 0 at the midpoint and becomes negative from midpoint to reaching the prey.\n",
    "We also know the mass of the device; therefore, we can compute the force profile required for our device by using F = m*a.\n",
    "\n",
    "\n",
    "\n",
    "4. How did you estimate your expected end-effector speeds ?\n",
    "\n",
    "From literatures, we found the maximum speed and we know the speed at the initial point and final point is 0. Then, we just assume the speed profile is a sinusoildal function and fit the known parameters into the function."
   ]
  },
  {
   "cell_type": "code",
   "execution_count": null,
   "metadata": {},
   "outputs": [],
   "source": []
  }
 ],
 "metadata": {
  "colab": {
   "collapsed_sections": [],
   "name": "System Kinematics.ipynb",
   "provenance": []
  },
  "kernelspec": {
   "display_name": "Python 3",
   "language": "python",
   "name": "python3"
  },
  "language_info": {
   "codemirror_mode": {
    "name": "ipython",
    "version": 3
   },
   "file_extension": ".py",
   "mimetype": "text/x-python",
   "name": "python",
   "nbconvert_exporter": "python",
   "pygments_lexer": "ipython3",
   "version": "3.8.5"
  }
 },
 "nbformat": 4,
 "nbformat_minor": 5
}
