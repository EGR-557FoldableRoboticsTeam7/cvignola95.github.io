{
 "cells": [
  {
   "cell_type": "markdown",
   "metadata": {
    "id": "center-scientist"
   },
   "source": [
    "EGR 557 Foldable Robotics\n",
    "System Kinematics\n",
    "Team 7"
   ]
  },
  {
   "cell_type": "markdown",
   "metadata": {
    "id": "intended-career"
   },
   "source": [
    "1. Create a figure (either in python, in a vector-based drawing program like inkscape or illustrator, or as a solidworks rendering) of your system kinematics.\n",
    "\n",
    "![Annotated%20Figure.svg](./AnnotatedFigure.svg)"
   ]
  },
  {
   "cell_type": "markdown",
   "metadata": {
    "id": "australian-coordination"
   },
   "source": [
    "2. Make the device in paper or cardboard. You need an up-to-date model if it has changed from your individual assignments. The paper model should dimensionally match your code.\n",
    "\n",
    "![IMG-2615](./IMG-2615.jpg)\n",
    "![IMG-2616.jpg](./IMG-2616.jpg)\n",
    "![IMG-2636.jpg](./IMG-2636.jpg)\n",
    "![IMG-2635.jpg](./IMG-2635.jpg)\n",
    "![IMG-2637.jpg](./IMG-2637.jpg)\n",
    "![IMG-2634.jpg](./IMG-2634.jpg)\n",
    "![IMG-2633.jpg](./IMG-2633.jpg)\n",
    "![IMG-2632.jpg](./IMG-2632.jpg)\n",
    "![IMG-2631.jpg](./IMG-2631.jpg)"
   ]
  },
  {
   "cell_type": "markdown",
   "metadata": {
    "id": "pharmaceutical-prisoner"
   },
   "source": [
    "3. Using a pynamics-based script, develop a kinematic model for your device."
   ]
  },
  {
   "cell_type": "code",
   "execution_count": 1,
   "metadata": {
    "colab": {
     "base_uri": "https://localhost:8080/"
    },
    "executionInfo": {
     "elapsed": 26609,
     "status": "ok",
     "timestamp": 1613792344656,
     "user": {
      "displayName": "Chien-Wen Pan",
      "photoUrl": "",
      "userId": "05656865594938849414"
     },
     "user_tz": 420
    },
    "id": "Dd5ocjDzjvZL",
    "outputId": "253dff61-0d6f-46f1-af90-a570be68f091"
   },
   "outputs": [
    {
     "name": "stdout",
     "output_type": "stream",
     "text": [
      "Requirement already satisfied: meshio in c:\\users\\vigno\\miniconda3\\lib\\site-packages (4.3.8)\n",
      "Requirement already satisfied: pygmsh in c:\\users\\vigno\\miniconda3\\lib\\site-packages (7.1.5)\n",
      "Requirement already satisfied: ezdxf in c:\\users\\vigno\\miniconda3\\lib\\site-packages (0.15)\n",
      "Requirement already satisfied: pandoc-fignos in c:\\users\\vigno\\miniconda3\\lib\\site-packages (2.4.0)\n",
      "Requirement already satisfied: pandoc-eqnos in c:\\users\\vigno\\miniconda3\\lib\\site-packages (2.5.0)\n",
      "Requirement already satisfied: pypdf4 in c:\\users\\vigno\\miniconda3\\lib\\site-packages (1.27.0)\n",
      "Requirement already satisfied: service_identity in c:\\users\\vigno\\miniconda3\\lib\\site-packages (18.1.0)\n",
      "Requirement already satisfied: ftd2xx in c:\\users\\vigno\\miniconda3\\lib\\site-packages (1.1.2)\n",
      "Requirement already satisfied: pygithub in c:\\users\\vigno\\miniconda3\\lib\\site-packages (1.54.1)\n",
      "Requirement already satisfied: twine in c:\\users\\vigno\\miniconda3\\lib\\site-packages (3.3.0)\n",
      "Requirement already satisfied: paho-mqtt in c:\\users\\vigno\\miniconda3\\lib\\site-packages (1.5.1)\n",
      "Requirement already satisfied: pyparsing>=2.0.1 in c:\\users\\vigno\\miniconda3\\lib\\site-packages (from ezdxf) (2.4.7)\n",
      "Requirement already satisfied: future in c:\\users\\vigno\\miniconda3\\lib\\site-packages (from ftd2xx) (0.18.2)\n",
      "Requirement already satisfied: pywin32 in c:\\users\\vigno\\miniconda3\\lib\\site-packages (from ftd2xx) (227)\n",
      "Requirement already satisfied: numpy in c:\\users\\vigno\\miniconda3\\lib\\site-packages (from meshio) (1.19.2)\n",
      "Requirement already satisfied: pandoc-xnos<3.0,>=2.5.0 in c:\\users\\vigno\\miniconda3\\lib\\site-packages (from pandoc-eqnos) (2.5.0)\n",
      "Requirement already satisfied: psutil<6,>=4.1.0 in c:\\users\\vigno\\miniconda3\\lib\\site-packages (from pandoc-xnos<3.0,>=2.5.0->pandoc-eqnos) (5.7.2)\n",
      "Requirement already satisfied: pandocfilters<2,>=1.4.2 in c:\\users\\vigno\\miniconda3\\lib\\site-packages (from pandoc-xnos<3.0,>=2.5.0->pandoc-eqnos) (1.4.3)\n",
      "Requirement already satisfied: pyjwt<2.0 in c:\\users\\vigno\\miniconda3\\lib\\site-packages (from pygithub) (1.7.1)\n",
      "Requirement already satisfied: deprecated in c:\\users\\vigno\\miniconda3\\lib\\site-packages (from pygithub) (1.2.10)\n",
      "Requirement already satisfied: requests>=2.14.0 in c:\\users\\vigno\\miniconda3\\lib\\site-packages (from pygithub) (2.25.1)\n",
      "Requirement already satisfied: chardet<5,>=3.0.2 in c:\\users\\vigno\\miniconda3\\lib\\site-packages (from requests>=2.14.0->pygithub) (4.0.0)\n",
      "Requirement already satisfied: urllib3<1.27,>=1.21.1 in c:\\users\\vigno\\miniconda3\\lib\\site-packages (from requests>=2.14.0->pygithub) (1.26.2)\n",
      "Requirement already satisfied: idna<3,>=2.5 in c:\\users\\vigno\\miniconda3\\lib\\site-packages (from requests>=2.14.0->pygithub) (2.10)\n",
      "Requirement already satisfied: certifi>=2017.4.17 in c:\\users\\vigno\\miniconda3\\lib\\site-packages (from requests>=2.14.0->pygithub) (2020.12.5)\n",
      "Requirement already satisfied: pyasn1-modules in c:\\users\\vigno\\miniconda3\\lib\\site-packages (from service_identity) (0.2.8)\n",
      "Requirement already satisfied: pyasn1 in c:\\users\\vigno\\miniconda3\\lib\\site-packages (from service_identity) (0.4.8)\n",
      "Requirement already satisfied: cryptography in c:\\users\\vigno\\miniconda3\\lib\\site-packages (from service_identity) (3.3.1)\n",
      "Requirement already satisfied: attrs>=16.0.0 in c:\\users\\vigno\\miniconda3\\lib\\site-packages (from service_identity) (20.3.0)\n",
      "Requirement already satisfied: tqdm>=4.14 in c:\\users\\vigno\\miniconda3\\lib\\site-packages (from twine) (4.55.1)\n",
      "Requirement already satisfied: keyring>=15.1 in c:\\users\\vigno\\miniconda3\\lib\\site-packages (from twine) (21.8.0)\n",
      "Requirement already satisfied: pkginfo>=1.4.2 in c:\\users\\vigno\\miniconda3\\lib\\site-packages (from twine) (1.6.1)\n",
      "Requirement already satisfied: requests-toolbelt!=0.9.0,>=0.8.0 in c:\\users\\vigno\\miniconda3\\lib\\site-packages (from twine) (0.9.1)\n",
      "Requirement already satisfied: colorama>=0.4.3 in c:\\users\\vigno\\miniconda3\\lib\\site-packages (from twine) (0.4.4)\n",
      "Requirement already satisfied: setuptools>=0.7.0 in c:\\users\\vigno\\miniconda3\\lib\\site-packages (from twine) (51.1.2.post20210110)\n",
      "Requirement already satisfied: readme-renderer>=21.0 in c:\\users\\vigno\\miniconda3\\lib\\site-packages (from twine) (28.0)\n",
      "Requirement already satisfied: rfc3986>=1.4.0 in c:\\users\\vigno\\miniconda3\\lib\\site-packages (from twine) (1.4.0)\n",
      "Requirement already satisfied: pywin32-ctypes!=0.1.0,!=0.1.1 in c:\\users\\vigno\\miniconda3\\lib\\site-packages (from keyring>=15.1->twine) (0.2.0)\n",
      "Requirement already satisfied: docutils>=0.13.1 in c:\\users\\vigno\\miniconda3\\lib\\site-packages (from readme-renderer>=21.0->twine) (0.16)\n",
      "Requirement already satisfied: bleach>=2.1.0 in c:\\users\\vigno\\miniconda3\\lib\\site-packages (from readme-renderer>=21.0->twine) (3.2.1)\n",
      "Requirement already satisfied: Pygments>=2.5.1 in c:\\users\\vigno\\miniconda3\\lib\\site-packages (from readme-renderer>=21.0->twine) (2.7.3)\n",
      "Requirement already satisfied: six in c:\\users\\vigno\\miniconda3\\lib\\site-packages (from readme-renderer>=21.0->twine) (1.15.0)\n",
      "Requirement already satisfied: webencodings in c:\\users\\vigno\\miniconda3\\lib\\site-packages (from bleach>=2.1.0->readme-renderer>=21.0->twine) (0.5.1)\n",
      "Requirement already satisfied: packaging in c:\\users\\vigno\\miniconda3\\lib\\site-packages (from bleach>=2.1.0->readme-renderer>=21.0->twine) (20.8)\n",
      "Requirement already satisfied: cffi>=1.12 in c:\\users\\vigno\\miniconda3\\lib\\site-packages (from cryptography->service_identity) (1.14.4)\n",
      "Requirement already satisfied: pycparser in c:\\users\\vigno\\miniconda3\\lib\\site-packages (from cffi>=1.12->cryptography->service_identity) (2.20)\n",
      "Requirement already satisfied: wrapt<2,>=1.10 in c:\\users\\vigno\\miniconda3\\lib\\site-packages (from deprecated->pygithub) (1.11.2)\n",
      "Requirement already satisfied: ntplib in c:\\users\\vigno\\miniconda3\\lib\\site-packages (0.3.4)\n",
      "Requirement already satisfied: pygame in c:\\users\\vigno\\miniconda3\\lib\\site-packages (2.0.1)\n",
      "Requirement already satisfied: pysftp in c:\\users\\vigno\\miniconda3\\lib\\site-packages (0.2.9)\n",
      "Requirement already satisfied: pyserial in c:\\users\\vigno\\miniconda3\\lib\\site-packages (3.5)\n",
      "Requirement already satisfied: paramiko>=1.17 in c:\\users\\vigno\\miniconda3\\lib\\site-packages (from pysftp) (2.7.2)\n",
      "Requirement already satisfied: cryptography>=2.5 in c:\\users\\vigno\\miniconda3\\lib\\site-packages (from paramiko>=1.17->pysftp) (3.3.1)\n",
      "Requirement already satisfied: pynacl>=1.0.1 in c:\\users\\vigno\\miniconda3\\lib\\site-packages (from paramiko>=1.17->pysftp) (1.4.0)\n",
      "Requirement already satisfied: bcrypt>=3.1.3 in c:\\users\\vigno\\miniconda3\\lib\\site-packages (from paramiko>=1.17->pysftp) (3.2.0)\n",
      "Requirement already satisfied: six>=1.4.1 in c:\\users\\vigno\\miniconda3\\lib\\site-packages (from bcrypt>=3.1.3->paramiko>=1.17->pysftp) (1.15.0)\n",
      "Requirement already satisfied: cffi>=1.1 in c:\\users\\vigno\\miniconda3\\lib\\site-packages (from bcrypt>=3.1.3->paramiko>=1.17->pysftp) (1.14.4)\n",
      "Requirement already satisfied: pycparser in c:\\users\\vigno\\miniconda3\\lib\\site-packages (from cffi>=1.1->bcrypt>=3.1.3->paramiko>=1.17->pysftp) (2.20)\n",
      "Requirement already satisfied: pypoly2tri in c:\\users\\vigno\\miniconda3\\lib\\site-packages (0.0.3)\n",
      "Requirement already satisfied: idealab_tools in c:\\users\\vigno\\miniconda3\\lib\\site-packages (0.0.22)\n",
      "Requirement already satisfied: foldable_robotics in c:\\users\\vigno\\miniconda3\\lib\\site-packages (0.0.29)\n",
      "Requirement already satisfied: pynamics in c:\\users\\vigno\\miniconda3\\lib\\site-packages (0.0.7)\n",
      "Requirement already satisfied: ezdxf in c:\\users\\vigno\\miniconda3\\lib\\site-packages (from foldable_robotics) (0.15)\n",
      "Requirement already satisfied: matplotlib in c:\\users\\vigno\\miniconda3\\lib\\site-packages (from foldable_robotics) (3.3.2)\n",
      "Requirement already satisfied: shapely in c:\\users\\vigno\\miniconda3\\lib\\site-packages (from foldable_robotics) (1.7.1)\n",
      "Requirement already satisfied: numpy in c:\\users\\vigno\\miniconda3\\lib\\site-packages (from foldable_robotics) (1.19.2)\n",
      "Requirement already satisfied: pyyaml in c:\\users\\vigno\\miniconda3\\lib\\site-packages (from foldable_robotics) (5.3.1)\n",
      "Requirement already satisfied: imageio in c:\\users\\vigno\\miniconda3\\lib\\site-packages (from idealab_tools) (2.9.0)\n",
      "Requirement already satisfied: sympy in c:\\users\\vigno\\miniconda3\\lib\\site-packages (from pynamics) (1.7.1)\n",
      "Requirement already satisfied: scipy in c:\\users\\vigno\\miniconda3\\lib\\site-packages (from pynamics) (1.5.2)\n",
      "Requirement already satisfied: pyparsing>=2.0.1 in c:\\users\\vigno\\miniconda3\\lib\\site-packages (from ezdxf->foldable_robotics) (2.4.7)\n",
      "Requirement already satisfied: pillow in c:\\users\\vigno\\miniconda3\\lib\\site-packages (from imageio->idealab_tools) (8.1.0)\n",
      "Requirement already satisfied: python-dateutil>=2.1 in c:\\users\\vigno\\miniconda3\\lib\\site-packages (from matplotlib->foldable_robotics) (2.8.1)\n",
      "Requirement already satisfied: certifi>=2020.06.20 in c:\\users\\vigno\\miniconda3\\lib\\site-packages (from matplotlib->foldable_robotics) (2020.12.5)\n",
      "Requirement already satisfied: kiwisolver>=1.0.1 in c:\\users\\vigno\\miniconda3\\lib\\site-packages (from matplotlib->foldable_robotics) (1.3.0)\n",
      "Requirement already satisfied: cycler>=0.10 in c:\\users\\vigno\\miniconda3\\lib\\site-packages (from matplotlib->foldable_robotics) (0.10.0)\n",
      "Requirement already satisfied: six in c:\\users\\vigno\\miniconda3\\lib\\site-packages (from cycler>=0.10->matplotlib->foldable_robotics) (1.15.0)\n",
      "Requirement already satisfied: mpmath>=0.19 in c:\\users\\vigno\\miniconda3\\lib\\site-packages (from sympy->pynamics) (1.1.0)\n"
     ]
    }
   ],
   "source": [
    "# RUN PIP INSTALL CODE BLOCK\n",
    "\n",
    "# Install standard packages...\n",
    "!pip install meshio pygmsh ezdxf pandoc-fignos pandoc-eqnos pypdf4 service_identity ftd2xx pygithub twine paho-mqtt\n",
    "!pip install ntplib pygame pysftp pyserial\n",
    "\n",
    "# Install foldable-robotics-specific packages.\n",
    "!pip install pypoly2tri idealab_tools foldable_robotics pynamics"
   ]
  },
  {
   "cell_type": "markdown",
   "metadata": {
    "id": "wnLDAzMjso9e"
   },
   "source": [
    "**3. **Using a pynamics-based script, develop a kinematic model for your device. Following the triple pendulum example,\n",
    "\n",
    "1. Import packages\n",
    "2. Define variables and constants (you may want to add, remove, or rename variables to match your figure)\n",
    "3. Declare frames (you may need to add frames or rename them)\n",
    "4. Define frame rotations (you may want to switch the axis about which frames rotate)\n",
    "5. Compose kinematics (this depends entirely on the geometry of your system)\n",
    "6. Take time-derivatives of position vectors\n",
    "7. Assemble into a Jacobian that maps input velocities to output velocities."
   ]
  },
  {
   "cell_type": "code",
   "execution_count": 2,
   "metadata": {
    "executionInfo": {
     "elapsed": 27990,
     "status": "ok",
     "timestamp": 1613792346043,
     "user": {
      "displayName": "Chien-Wen Pan",
      "photoUrl": "",
      "userId": "05656865594938849414"
     },
     "user_tz": 420
    },
    "id": "divine-presence"
   },
   "outputs": [],
   "source": [
    "#%% Develope a kinematic model\n",
    "\n",
    "# import pachages\n",
    "import pynamics\n",
    "from pynamics.frame import Frame\n",
    "from pynamics.variable_types import Differentiable,Constant\n",
    "from pynamics.system import System\n",
    "#from pynamics.body import Body\n",
    "#from pynamics.dyadic import Dyadic\n",
    "from pynamics.output import Output,PointsOutput\n",
    "#from pynamics.particle import Particle\n",
    "import pynamics.integration\n",
    "import sympy\n",
    "import numpy\n",
    "import matplotlib.pyplot as plt\n",
    "plt.ion()\n",
    "from math import pi\n",
    "#from pynamics.constraint import Constraint\n",
    "import scipy.optimize\n",
    "\n",
    "\n",
    "# Create Pynamic system\n",
    "system = System()\n",
    "pynamics.set_system(__name__,system)\n",
    "\n",
    "\n",
    "# Define constants and vaiables\n",
    "lA = Constant(6,'lA',system)\n",
    "lB = Constant(18,'lB',system)\n",
    "lC = Constant(6,'lC',system)\n",
    "lD = Constant(3,'lD',system)\n",
    "\n",
    "\n",
    "qA,qA_d,qA_dd = Differentiable('qA',system)\n",
    "qB,qB_d,qB_dd = Differentiable('qB',system)\n",
    "qC,qC_d,qC_dd = Differentiable('qC',system)\n",
    "\n",
    "\n",
    "initialvalues = {}\n",
    "initialvalues[qA]=-90*pi/180\n",
    "initialvalues[qA_d]=0*pi/180\n",
    "initialvalues[qB]=90*pi/180\n",
    "initialvalues[qB_d]=0*pi/180\n",
    "initialvalues[qC]=90*pi/180\n",
    "initialvalues[qC_d]=0*pi/180\n",
    "\n",
    "\n",
    "statevariables = system.get_state_variables()\n",
    "\n",
    "\n",
    "# Define frames and frames rotations\n",
    "N = Frame('N')\n",
    "A = Frame('A')\n",
    "B = Frame('B')\n",
    "C = Frame('C')\n",
    "\n",
    "\n",
    "system.set_newtonian(N)\n",
    "\n",
    "A.rotate_fixed_axis_directed(N,[0,0,1],qA,system)\n",
    "B.rotate_fixed_axis_directed(A,[0,0,1],qB,system)\n",
    "C.rotate_fixed_axis_directed(B,[0,0,1],qC,system)\n",
    "\n",
    "\n",
    "# Define kinematics\n",
    "\n",
    "pNA = 0*N.x + 0*N.y\n",
    "pAB = pNA + lA*A.x\n",
    "pBC = pAB + lB*B.x\n",
    "pBmid = pAB + lD*B.x\n",
    "pCtip = pBmid + lC*C.x\n",
    "pD = lD*N.x\n",
    "\n",
    "points = [pNA,pAB,pBC,pBmid,pCtip]\n",
    "\n",
    "\n",
    "# Take time derivatives of position vectors\n",
    "vNA = pNA.time_derivative()\n",
    "vAB = pAB.time_derivative()\n",
    "vBC = pBC.time_derivative()\n",
    "vBmid = pBmid.time_derivative()\n",
    "vCtip = pCtip.time_derivative()\n",
    "vD = pD.time_derivative()\n",
    "\n",
    "\n",
    "# Form Jacobian\n",
    "# The relaionship of input velocity and output velocity of this device is: vBC = J*qA_d\n",
    "\n",
    "\n",
    "statevariables = system.get_state_variables()\n",
    "ini0 = [initialvalues[item] for item in statevariables]\n",
    "\n",
    "# Define constraints\n",
    "eq_vector = pCtip-pD\n",
    "\n",
    "eq = []\n",
    "eq.append((eq_vector).dot(N.x))\n",
    "eq.append((eq_vector).dot(N.y))\n",
    "eq_d=[(system.derivative(item)) for item in eq]"
   ]
  },
  {
   "cell_type": "markdown",
   "metadata": {
    "id": "forward-citation"
   },
   "source": [
    "**4. **Select or Solve for a valid initial condition that represents the system in the middle of a typical gait, when it is both moving and when forces are being applied to it (or to the world by it)\n",
    "\n",
    "Despite the fact that you will be using a symbolic representation, you still need to solve for a valid initial condition if your device is a “parallel mechanism.” This may be done using a nonlinear solver such as scipy.optimize.minimize"
   ]
  },
  {
   "cell_type": "code",
   "execution_count": 3,
   "metadata": {
    "executionInfo": {
     "elapsed": 31129,
     "status": "ok",
     "timestamp": 1613792349185,
     "user": {
      "displayName": "Chien-Wen Pan",
      "photoUrl": "",
      "userId": "05656865594938849414"
     },
     "user_tz": 420
    },
    "id": "zNFMxq4VjESq"
   },
   "outputs": [],
   "source": [
    "#%% Solve for initial condition\n",
    "qi = [qA]\n",
    "qd = [qB,qC]\n",
    "\n",
    "constants = system.constant_values.copy()\n",
    "defined = dict([(item,initialvalues[item]) for item in qi])\n",
    "constants.update(defined)\n",
    "\n",
    "eq = [item.subs(constants) for item in eq]\n",
    "\n",
    "\n",
    "error = (numpy.array(eq)**2).sum()\n",
    "\n",
    "\n",
    "f = sympy.lambdify(qd,error)\n",
    "\n",
    "def function(args):\n",
    "    return f(*args)\n",
    "\n",
    "\n",
    "#Take the derivative of the equations to linearize with regard to the velocity variables\n",
    "guess = [initialvalues[item] for item in qd]\n",
    "\n",
    "\n",
    "result = scipy.optimize.minimize(function,guess)\n",
    "if result.fun>1e-3:\n",
    "    raise(Exception(\"out of tolerance\"))\n",
    "    \n",
    "    \n",
    "ini = []\n",
    "for item in system.get_state_variables():\n",
    "    if item in qd:\n",
    "        ini.append(result.x[qd.index(item)])\n",
    "    else:\n",
    "        ini.append(initialvalues[item])\n",
    "        \n",
    "        \n",
    "# Find Jacobian\n",
    "eq_d = sympy.Matrix(eq_d)\n",
    "\n",
    "qi = sympy.Matrix([qA_d])\n",
    "qd = sympy.Matrix([qB_d,qC_d])\n",
    "\n",
    "AA = eq_d.jacobian(qi)\n",
    "BB = eq_d.jacobian(qd)\n",
    "\n",
    "J = -BB.inv()*AA\n",
    "J.simplify()\n",
    "\n",
    "# Solve for dependent variables\n",
    "qd2 = J*qi\n",
    "\n",
    "\n",
    "subs = dict([(ii,jj) for ii,jj in zip(qd,qd2)])\n",
    "\n",
    "pout = pBC\n",
    "vout = pout.time_derivative()\n",
    "vout = vout.subs(subs)"
   ]
  },
  {
   "cell_type": "markdown",
   "metadata": {
    "id": "medium-treat"
   },
   "source": [
    "**5.** Plot the system in this position."
   ]
  },
  {
   "cell_type": "code",
   "execution_count": 4,
   "metadata": {
    "colab": {
     "base_uri": "https://localhost:8080/",
     "height": 318
    },
    "executionInfo": {
     "elapsed": 31514,
     "status": "ok",
     "timestamp": 1613792349577,
     "user": {
      "displayName": "Chien-Wen Pan",
      "photoUrl": "",
      "userId": "05656865594938849414"
     },
     "user_tz": 420
    },
    "id": "ZYMyKvoljBmQ",
    "outputId": "16c07d36-55a2-493a-b041-fd7cb32272de"
   },
   "outputs": [
    {
     "name": "stderr",
     "output_type": "stream",
     "text": [
      "2021-02-19 22:25:22,103 - pynamics.output - INFO - calculating outputs\n",
      "2021-02-19 22:25:22,104 - pynamics.output - INFO - done calculating outputs\n"
     ]
    },
    {
     "data": {
      "image/png": "[encoded data removed]",
      "text/plain": [
       "<Figure size 432x288 with 1 Axes>"
      ]
     },
     "metadata": {
      "needs_background": "light"
     },
     "output_type": "display_data"
    }
   ],
   "source": [
    "# Plot the system\n",
    "        \n",
    "points = PointsOutput(points, constant_values=system.constant_values)\n",
    "points.calc(numpy.array([ini0,ini]))\n",
    "points.plot_time()"
   ]
  },
  {
   "cell_type": "markdown",
   "metadata": {
    "id": "canadian-snapshot"
   },
   "source": [
    "6. From your biomechanics-based specifications, define one or more force vector estimates (one for each end effector) that the system should be expected to experience."
   ]
  },
  {
   "cell_type": "code",
   "execution_count": 5,
   "metadata": {
    "executionInfo": {
     "elapsed": 31513,
     "status": "ok",
     "timestamp": 1613792349579,
     "user": {
      "displayName": "Chien-Wen Pan",
      "photoUrl": "",
      "userId": "05656865594938849414"
     },
     "user_tz": 420
    },
    "id": "fBLhIwgmeBEF"
   },
   "outputs": [],
   "source": [
    "# Define force at end-effector\n",
    "\n",
    "# From out biomechanics background research, the maximum force needed to push the jaw during the motion is 0.22 N.\n",
    "# Scale the size, our maximum force experienced by the end-effector will be around 0.5 N. (From acceleration)\n",
    "F_a_max = sympy.Matrix([0.5,0])\n",
    "\n",
    "# There's no ground reaction force during the motion\n",
    "\n"
   ]
  },
  {
   "cell_type": "markdown",
   "metadata": {
    "id": "pregnant-spotlight"
   },
   "source": [
    "7. Calculate the force or torque required at the input to satisfy the end-effector force requirements"
   ]
  },
  {
   "cell_type": "code",
   "execution_count": 6,
   "metadata": {
    "colab": {
     "base_uri": "https://localhost:8080/"
    },
    "executionInfo": {
     "elapsed": 31509,
     "status": "ok",
     "timestamp": 1613792349580,
     "user": {
      "displayName": "Chien-Wen Pan",
      "photoUrl": "",
      "userId": "05656865594938849414"
     },
     "user_tz": 420
    },
    "id": "twfjL553tK_8",
    "outputId": "17cc4c82-3747-4511-bd4c-28b1bc8734fa"
   },
   "outputs": [
    {
     "data": {
      "text/plain": [
       "⎡     ⎛lA⋅sin(qB)                  ⎞ ⎤\n",
       "⎢-0.5⋅⎜────────── + lA⋅cos(qB) + lD⎟ ⎥\n",
       "⎢     ⎝ tan(qC)                    ⎠ ⎥\n",
       "⎢────────────────────────────────────⎥\n",
       "⎣                 lD                 ⎦"
      ]
     },
     "execution_count": 6,
     "metadata": {},
     "output_type": "execute_result"
    }
   ],
   "source": [
    "t_max = J.T*F_a_max\n",
    "t_max"
   ]
  },
  {
   "cell_type": "markdown",
   "metadata": {
    "id": "aggregate-ready"
   },
   "source": [
    "8. Estimate the velocity of the end-effector in this configuration. Using the Jacobian, calculate the speed required by the input(s) to achieve that output motion."
   ]
  },
  {
   "cell_type": "code",
   "execution_count": 7,
   "metadata": {
    "colab": {
     "base_uri": "https://localhost:8080/"
    },
    "executionInfo": {
     "elapsed": 31506,
     "status": "ok",
     "timestamp": 1613792349581,
     "user": {
      "displayName": "Chien-Wen Pan",
      "photoUrl": "",
      "userId": "05656865594938849414"
     },
     "user_tz": 420
    },
    "id": "JPR2l-IgtPfq",
    "outputId": "42482666-6341-4d94-b3da-423c287f4a88"
   },
   "outputs": [
    {
     "data": {
      "text/plain": [
       "⎡      ⎛lA⋅sin(qB)                  ⎞ ⎤\n",
       "⎢-2.31⋅⎜────────── + lA⋅cos(qB) + lD⎟ ⎥\n",
       "⎢      ⎝ tan(qC)                    ⎠ ⎥\n",
       "⎢─────────────────────────────────────⎥\n",
       "⎣                  lD                 ⎦"
      ]
     },
     "execution_count": 7,
     "metadata": {},
     "output_type": "execute_result"
    }
   ],
   "source": [
    "# From our biomechanics studying, the mean max speed is 2.31 m/s\n",
    "v_max = sympy.Matrix([2.31,0])\n",
    "qA_d_max = J.T*v_max\n",
    "qA_d_max"
   ]
  },
  {
   "cell_type": "markdown",
   "metadata": {
    "id": "assured-expression"
   },
   "source": [
    "9. Finally, using the two estimates about force and speed at the input, compute the required power in this configuration."
   ]
  },
  {
   "cell_type": "code",
   "execution_count": 8,
   "metadata": {
    "colab": {
     "base_uri": "https://localhost:8080/"
    },
    "executionInfo": {
     "elapsed": 31501,
     "status": "ok",
     "timestamp": 1613792349582,
     "user": {
      "displayName": "Chien-Wen Pan",
      "photoUrl": "",
      "userId": "05656865594938849414"
     },
     "user_tz": 420
    },
    "id": "1jk2E6zmtUHt",
    "outputId": "37cdbd1f-e41b-48f5-f358-2dddf20f3093"
   },
   "outputs": [
    {
     "data": {
      "text/plain": [
       "⎡                                    2⎤\n",
       "⎢      ⎛lA⋅sin(qB)                  ⎞ ⎥\n",
       "⎢1.155⋅⎜────────── + lA⋅cos(qB) + lD⎟ ⎥\n",
       "⎢      ⎝ tan(qC)                    ⎠ ⎥\n",
       "⎢─────────────────────────────────────⎥\n",
       "⎢                   2                 ⎥\n",
       "⎣                 lD                  ⎦"
      ]
     },
     "execution_count": 8,
     "metadata": {},
     "output_type": "execute_result"
    }
   ],
   "source": [
    "P_max = t_max*qA_d_max.T\n",
    "P_max"
   ]
  },
  {
   "cell_type": "markdown",
   "metadata": {
    "id": "nl_siElgrACS"
   },
   "source": [
    "**Discussion**\n",
    "\n",
    "Answer the following questions\n",
    "\n",
    "How many degrees of freedom does your device have? How many motors? If the answer is not the same, what determines the state of the remaining degrees of freedom? How did you arrive at that number?\n",
    "\n",
    "The device has one degree of freedom as of now. So only one motor as of now. But the degrees of freedom will change after we design the end effector for the system. So more motors may be required. Once the end effector is designed, the team's website will be updated with the total degrees of freedom for the system and the total number of motor that will be finally used.\n",
    "\n",
    "\n",
    "\n",
    "If your mechanism has more than one degree of freedom, please describe how those multiple degrees of freedom will work togehter to create a locomotory gait or useful motion. What is your plan for synchonizing, especially if passive energy storage?\n",
    "\n",
    "The mechanism currenlty has only one degree of freedom. The descripion about how the system will work together to create a locomotory gait or useful motion will be added to the team's website after the end effector is designed and more degrees of freedom are added to the system later. The plan for synchronizing will also be updated on the team's website after the end effector is designed.\n",
    "\n",
    "\n",
    "\n",
    "How did you estimate your expected end-effector forces ? \n",
    "\n",
    "From our biomechanics studying, what we know is the maximum acceleration during the motion, we assume acceleration profiles are sinusoidal. Therefore, maximum acceleration happens at t = 0, goes to 0 at the midpoint and becomes negative from midpoint to reaching the prey.\n",
    "We also know the mass of the device; therefore, we can compute the force profile required for our device by using F = m*a.\n",
    "\n",
    "\n",
    "\n",
    "How did you estimate your expected end-effector speeds ?\n",
    "\n",
    "From literatures, we found the maximum speed and we know the speed at the initial point and final point is 0. Then, we just assume the speed profile is a sinusoildal function and fit the known parameters into the function."
   ]
  },
  {
   "cell_type": "code",
   "execution_count": null,
   "metadata": {
    "executionInfo": {
     "elapsed": 31501,
     "status": "ok",
     "timestamp": 1613792349584,
     "user": {
      "displayName": "Chien-Wen Pan",
      "photoUrl": "",
      "userId": "05656865594938849414"
     },
     "user_tz": 420
    },
    "id": "RUGuJY4gg0Jq"
   },
   "outputs": [],
   "source": []
  }
 ],
 "metadata": {
  "colab": {
   "collapsed_sections": [],
   "name": "System Kinematics.ipynb",
   "provenance": []
  },
  "kernelspec": {
   "display_name": "Python 3",
   "language": "python",
   "name": "python3"
  },
  "language_info": {
   "codemirror_mode": {
    "name": "ipython",
    "version": 3
   },
   "file_extension": ".py",
   "mimetype": "text/x-python",
   "name": "python",
   "nbconvert_exporter": "python",
   "pygments_lexer": "ipython3",
   "version": "3.8.5"
  }
 },
 "nbformat": 4,
 "nbformat_minor": 5
}
