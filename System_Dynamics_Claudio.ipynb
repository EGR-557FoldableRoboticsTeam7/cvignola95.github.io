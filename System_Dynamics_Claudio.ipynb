{
 "cells": [
  {
   "cell_type": "markdown",
   "metadata": {
    "id": "aZ3pafaqePRG"
   },
   "source": [
    "# System Dynamics\n",
    "# EGR 557 Foldable Robotics\n",
    "# Team 7"
   ]
  },
  {
   "cell_type": "code",
   "execution_count": 1,
   "metadata": {
    "colab": {
     "base_uri": "https://localhost:8080/"
    },
    "id": "BXFVJ0PshAN3",
    "outputId": "2b2bd5c3-cacc-4c96-e770-f01e2e91ca56"
   },
   "outputs": [
    {
     "name": "stdout",
     "output_type": "stream",
     "text": [
      "Requirement already satisfied: meshio in c:\\users\\vigno\\miniconda3\\lib\\site-packages (4.3.8)\n",
      "Requirement already satisfied: pygmsh in c:\\users\\vigno\\miniconda3\\lib\\site-packages (7.1.5)\n",
      "Requirement already satisfied: ezdxf in c:\\users\\vigno\\miniconda3\\lib\\site-packages (0.15)\n",
      "Requirement already satisfied: pandoc-fignos in c:\\users\\vigno\\miniconda3\\lib\\site-packages (2.4.0)\n",
      "Requirement already satisfied: pandoc-eqnos in c:\\users\\vigno\\miniconda3\\lib\\site-packages (2.5.0)\n",
      "Requirement already satisfied: pypdf4 in c:\\users\\vigno\\miniconda3\\lib\\site-packages (1.27.0)\n",
      "Requirement already satisfied: service_identity in c:\\users\\vigno\\miniconda3\\lib\\site-packages (18.1.0)\n",
      "Requirement already satisfied: ftd2xx in c:\\users\\vigno\\miniconda3\\lib\\site-packages (1.1.2)\n",
      "Requirement already satisfied: pygithub in c:\\users\\vigno\\miniconda3\\lib\\site-packages (1.54.1)\n",
      "Requirement already satisfied: twine in c:\\users\\vigno\\miniconda3\\lib\\site-packages (3.3.0)\n",
      "Requirement already satisfied: paho-mqtt in c:\\users\\vigno\\miniconda3\\lib\\site-packages (1.5.1)\n",
      "Requirement already satisfied: pyparsing>=2.0.1 in c:\\users\\vigno\\miniconda3\\lib\\site-packages (from ezdxf) (2.4.7)\n",
      "Requirement already satisfied: future in c:\\users\\vigno\\miniconda3\\lib\\site-packages (from ftd2xx) (0.18.2)\n",
      "Requirement already satisfied: pywin32 in c:\\users\\vigno\\miniconda3\\lib\\site-packages (from ftd2xx) (227)\n",
      "Requirement already satisfied: numpy in c:\\users\\vigno\\miniconda3\\lib\\site-packages (from meshio) (1.19.2)\n",
      "Requirement already satisfied: pandoc-xnos<3.0,>=2.5.0 in c:\\users\\vigno\\miniconda3\\lib\\site-packages (from pandoc-eqnos) (2.5.0)\n",
      "Requirement already satisfied: psutil<6,>=4.1.0 in c:\\users\\vigno\\miniconda3\\lib\\site-packages (from pandoc-xnos<3.0,>=2.5.0->pandoc-eqnos) (5.7.2)\n",
      "Requirement already satisfied: pandocfilters<2,>=1.4.2 in c:\\users\\vigno\\miniconda3\\lib\\site-packages (from pandoc-xnos<3.0,>=2.5.0->pandoc-eqnos) (1.4.3)\n",
      "Requirement already satisfied: deprecated in c:\\users\\vigno\\miniconda3\\lib\\site-packages (from pygithub) (1.2.10)\n",
      "Requirement already satisfied: pyjwt<2.0 in c:\\users\\vigno\\miniconda3\\lib\\site-packages (from pygithub) (1.7.1)\n",
      "Requirement already satisfied: requests>=2.14.0 in c:\\users\\vigno\\miniconda3\\lib\\site-packages (from pygithub) (2.25.1)\n",
      "Requirement already satisfied: chardet<5,>=3.0.2 in c:\\users\\vigno\\miniconda3\\lib\\site-packages (from requests>=2.14.0->pygithub) (4.0.0)\n",
      "Requirement already satisfied: idna<3,>=2.5 in c:\\users\\vigno\\miniconda3\\lib\\site-packages (from requests>=2.14.0->pygithub) (2.10)\n",
      "Requirement already satisfied: certifi>=2017.4.17 in c:\\users\\vigno\\miniconda3\\lib\\site-packages (from requests>=2.14.0->pygithub) (2020.12.5)\n",
      "Requirement already satisfied: urllib3<1.27,>=1.21.1 in c:\\users\\vigno\\miniconda3\\lib\\site-packages (from requests>=2.14.0->pygithub) (1.26.2)\n",
      "Requirement already satisfied: cryptography in c:\\users\\vigno\\miniconda3\\lib\\site-packages (from service_identity) (3.3.1)\n",
      "Requirement already satisfied: pyasn1-modules in c:\\users\\vigno\\miniconda3\\lib\\site-packages (from service_identity) (0.2.8)\n",
      "Requirement already satisfied: attrs>=16.0.0 in c:\\users\\vigno\\miniconda3\\lib\\site-packages (from service_identity) (20.3.0)\n",
      "Requirement already satisfied: pyasn1 in c:\\users\\vigno\\miniconda3\\lib\\site-packages (from service_identity) (0.4.8)\n",
      "Requirement already satisfied: requests-toolbelt!=0.9.0,>=0.8.0 in c:\\users\\vigno\\miniconda3\\lib\\site-packages (from twine) (0.9.1)\n",
      "Requirement already satisfied: keyring>=15.1 in c:\\users\\vigno\\miniconda3\\lib\\site-packages (from twine) (21.8.0)\n",
      "Requirement already satisfied: setuptools>=0.7.0 in c:\\users\\vigno\\miniconda3\\lib\\site-packages (from twine) (51.1.2.post20210110)\n",
      "Requirement already satisfied: colorama>=0.4.3 in c:\\users\\vigno\\miniconda3\\lib\\site-packages (from twine) (0.4.4)\n",
      "Requirement already satisfied: tqdm>=4.14 in c:\\users\\vigno\\miniconda3\\lib\\site-packages (from twine) (4.55.1)\n",
      "Requirement already satisfied: readme-renderer>=21.0 in c:\\users\\vigno\\miniconda3\\lib\\site-packages (from twine) (28.0)\n",
      "Requirement already satisfied: rfc3986>=1.4.0 in c:\\users\\vigno\\miniconda3\\lib\\site-packages (from twine) (1.4.0)\n",
      "Requirement already satisfied: pkginfo>=1.4.2 in c:\\users\\vigno\\miniconda3\\lib\\site-packages (from twine) (1.6.1)\n",
      "Requirement already satisfied: pywin32-ctypes!=0.1.0,!=0.1.1 in c:\\users\\vigno\\miniconda3\\lib\\site-packages (from keyring>=15.1->twine) (0.2.0)\n",
      "Requirement already satisfied: Pygments>=2.5.1 in c:\\users\\vigno\\miniconda3\\lib\\site-packages (from readme-renderer>=21.0->twine) (2.7.3)\n",
      "Requirement already satisfied: docutils>=0.13.1 in c:\\users\\vigno\\miniconda3\\lib\\site-packages (from readme-renderer>=21.0->twine) (0.16)\n",
      "Requirement already satisfied: bleach>=2.1.0 in c:\\users\\vigno\\miniconda3\\lib\\site-packages (from readme-renderer>=21.0->twine) (3.2.1)\n",
      "Requirement already satisfied: six in c:\\users\\vigno\\miniconda3\\lib\\site-packages (from readme-renderer>=21.0->twine) (1.15.0)\n",
      "Requirement already satisfied: webencodings in c:\\users\\vigno\\miniconda3\\lib\\site-packages (from bleach>=2.1.0->readme-renderer>=21.0->twine) (0.5.1)\n",
      "Requirement already satisfied: packaging in c:\\users\\vigno\\miniconda3\\lib\\site-packages (from bleach>=2.1.0->readme-renderer>=21.0->twine) (20.8)\n",
      "Requirement already satisfied: cffi>=1.12 in c:\\users\\vigno\\miniconda3\\lib\\site-packages (from cryptography->service_identity) (1.14.4)\n",
      "Requirement already satisfied: pycparser in c:\\users\\vigno\\miniconda3\\lib\\site-packages (from cffi>=1.12->cryptography->service_identity) (2.20)\n",
      "Requirement already satisfied: wrapt<2,>=1.10 in c:\\users\\vigno\\miniconda3\\lib\\site-packages (from deprecated->pygithub) (1.11.2)\n",
      "Requirement already satisfied: ntplib in c:\\users\\vigno\\miniconda3\\lib\\site-packages (0.3.4)\n",
      "Requirement already satisfied: pygame in c:\\users\\vigno\\miniconda3\\lib\\site-packages (2.0.1)\n",
      "Requirement already satisfied: pysftp in c:\\users\\vigno\\miniconda3\\lib\\site-packages (0.2.9)\n",
      "Requirement already satisfied: pyserial in c:\\users\\vigno\\miniconda3\\lib\\site-packages (3.5)\n",
      "Requirement already satisfied: paramiko>=1.17 in c:\\users\\vigno\\miniconda3\\lib\\site-packages (from pysftp) (2.7.2)\n",
      "Requirement already satisfied: bcrypt>=3.1.3 in c:\\users\\vigno\\miniconda3\\lib\\site-packages (from paramiko>=1.17->pysftp) (3.2.0)\n",
      "Requirement already satisfied: cryptography>=2.5 in c:\\users\\vigno\\miniconda3\\lib\\site-packages (from paramiko>=1.17->pysftp) (3.3.1)\n",
      "Requirement already satisfied: pynacl>=1.0.1 in c:\\users\\vigno\\miniconda3\\lib\\site-packages (from paramiko>=1.17->pysftp) (1.4.0)\n",
      "Requirement already satisfied: cffi>=1.1 in c:\\users\\vigno\\miniconda3\\lib\\site-packages (from bcrypt>=3.1.3->paramiko>=1.17->pysftp) (1.14.4)\n",
      "Requirement already satisfied: six>=1.4.1 in c:\\users\\vigno\\miniconda3\\lib\\site-packages (from bcrypt>=3.1.3->paramiko>=1.17->pysftp) (1.15.0)\n",
      "Requirement already satisfied: pycparser in c:\\users\\vigno\\miniconda3\\lib\\site-packages (from cffi>=1.1->bcrypt>=3.1.3->paramiko>=1.17->pysftp) (2.20)\n",
      "Requirement already satisfied: pypoly2tri in c:\\users\\vigno\\miniconda3\\lib\\site-packages (0.0.3)\n",
      "Requirement already satisfied: idealab_tools in c:\\users\\vigno\\miniconda3\\lib\\site-packages (0.0.22)\n",
      "Requirement already satisfied: foldable_robotics in c:\\users\\vigno\\miniconda3\\lib\\site-packages (0.0.29)\n",
      "Requirement already satisfied: pynamics in c:\\users\\vigno\\miniconda3\\lib\\site-packages (0.0.7)\n",
      "Requirement already satisfied: pyyaml in c:\\users\\vigno\\miniconda3\\lib\\site-packages (from foldable_robotics) (5.3.1)\n",
      "Requirement already satisfied: matplotlib in c:\\users\\vigno\\miniconda3\\lib\\site-packages (from foldable_robotics) (3.3.2)\n",
      "Requirement already satisfied: numpy in c:\\users\\vigno\\miniconda3\\lib\\site-packages (from foldable_robotics) (1.19.2)\n",
      "Requirement already satisfied: ezdxf in c:\\users\\vigno\\miniconda3\\lib\\site-packages (from foldable_robotics) (0.15)\n",
      "Requirement already satisfied: shapely in c:\\users\\vigno\\miniconda3\\lib\\site-packages (from foldable_robotics) (1.7.1)\n",
      "Requirement already satisfied: imageio in c:\\users\\vigno\\miniconda3\\lib\\site-packages (from idealab_tools) (2.9.0)\n",
      "Requirement already satisfied: sympy in c:\\users\\vigno\\miniconda3\\lib\\site-packages (from pynamics) (1.7.1)\n",
      "Requirement already satisfied: scipy in c:\\users\\vigno\\miniconda3\\lib\\site-packages (from pynamics) (1.5.2)\n",
      "Requirement already satisfied: pyparsing>=2.0.1 in c:\\users\\vigno\\miniconda3\\lib\\site-packages (from ezdxf->foldable_robotics) (2.4.7)\n",
      "Requirement already satisfied: pillow in c:\\users\\vigno\\miniconda3\\lib\\site-packages (from imageio->idealab_tools) (8.1.0)\n",
      "Requirement already satisfied: python-dateutil>=2.1 in c:\\users\\vigno\\miniconda3\\lib\\site-packages (from matplotlib->foldable_robotics) (2.8.1)\n",
      "Requirement already satisfied: kiwisolver>=1.0.1 in c:\\users\\vigno\\miniconda3\\lib\\site-packages (from matplotlib->foldable_robotics) (1.3.0)\n",
      "Requirement already satisfied: cycler>=0.10 in c:\\users\\vigno\\miniconda3\\lib\\site-packages (from matplotlib->foldable_robotics) (0.10.0)\n",
      "Requirement already satisfied: certifi>=2020.06.20 in c:\\users\\vigno\\miniconda3\\lib\\site-packages (from matplotlib->foldable_robotics) (2020.12.5)\n",
      "Requirement already satisfied: six in c:\\users\\vigno\\miniconda3\\lib\\site-packages (from cycler>=0.10->matplotlib->foldable_robotics) (1.15.0)\n",
      "Requirement already satisfied: mpmath>=0.19 in c:\\users\\vigno\\miniconda3\\lib\\site-packages (from sympy->pynamics) (1.1.0)\n"
     ]
    }
   ],
   "source": [
    "# RUN PIP INSTALL CODE BLOCK\n",
    "\n",
    "# Install standard packages...\n",
    "!pip install meshio pygmsh ezdxf pandoc-fignos pandoc-eqnos pypdf4 service_identity ftd2xx pygithub twine paho-mqtt\n",
    "!pip install ntplib pygame pysftp pyserial\n",
    "\n",
    "# Install foldable-robotics-specific packages.\n",
    "!pip install pypoly2tri idealab_tools foldable_robotics pynamics"
   ]
  },
  {
   "cell_type": "code",
   "execution_count": 2,
   "metadata": {
    "id": "P2VMIjDXhSNJ"
   },
   "outputs": [],
   "source": [
    "# import packages\n",
    "import pynamics\n",
    "from pynamics.frame import Frame\n",
    "from pynamics.variable_types import Differentiable,Constant\n",
    "from pynamics.system import System\n",
    "from pynamics.body import Body\n",
    "from pynamics.dyadic import Dyadic\n",
    "from pynamics.output import Output,PointsOutput\n",
    "from pynamics.particle import Particle, PseudoParticle\n",
    "import pynamics.integration\n",
    "import sympy\n",
    "import numpy\n",
    "import matplotlib.pyplot as plt\n",
    "plt.ion()\n",
    "from math import pi\n",
    "#from pynamics.constraint import Constraint\n",
    "import scipy.optimize\n"
   ]
  },
  {
   "cell_type": "code",
   "execution_count": 3,
   "metadata": {
    "id": "fL-lK3gAi54-"
   },
   "outputs": [],
   "source": [
    "global_q = True\n",
    "use_constraints = False\n",
    "\n",
    "# Create Pynamic system\n",
    "system = System()\n",
    "pynamics.set_system(__name__,system)\n",
    "\n",
    "# Define constants and variables\n",
    "\n",
    "g = Constant(9.81,'g',system)\n",
    "\n",
    "# Add joint stiffness.\n",
    "b = Constant(1e0,'b',system)\n",
    "k = Constant(1e1,'k',system)\n",
    "\n",
    "preload1 = Constant(90*pi/180,'preload1',system)\n",
    "preload2 = Constant(0*pi/180,'preload2',system)\n",
    "preload3 = Constant(-90*pi/180,'preload3',system)\n",
    "\n",
    "# Integration tolerance\n",
    "tol = 1e-12\n",
    "\n",
    "# Time\n",
    "tinitial = 0\n",
    "tfinal = 10\n",
    "fps = 30\n",
    "tstep = 1/fps\n",
    "t = numpy.r_[tinitial:tfinal:tstep]\n",
    "\n",
    "# Differential state variables\n",
    "qA,qA_d,qA_dd = Differentiable('qA',system)\n",
    "qB,qB_d,qB_dd = Differentiable('qB',system)\n",
    "qC,qC_d,qC_dd = Differentiable('qC',system)\n",
    "\n",
    "# Initial values\n",
    "initialvalues = {}\n",
    "initialvalues[qA]=120*pi/180\n",
    "initialvalues[qA_d]=0*pi/180\n",
    "initialvalues[qB]=0*pi/180\n",
    "initialvalues[qB_d]=0*pi/180\n",
    "initialvalues[qC]=-60*pi/180\n",
    "initialvalues[qC_d]=0*pi/180\n",
    "\n",
    "statevariables = system.get_state_variables()\n",
    "ini = [initialvalues[item] for item in statevariables]\n",
    "\n",
    "# Define frames and frames rotations\n",
    "N = Frame('N')\n",
    "A = Frame('A')\n",
    "B = Frame('B')\n",
    "C = Frame('C')\n",
    "M = Frame('M')\n",
    "\n",
    "system.set_newtonian(N)\n",
    "\n",
    "if not global_q:\n",
    "    A.rotate_fixed_axis_directed(N,[0,0,1],qA,system)\n",
    "    B.rotate_fixed_axis_directed(A,[0,0,1],qB,system)\n",
    "    C.rotate_fixed_axis_directed(B,[0,0,1],qC,system)\n",
    "else:\n",
    "    A.rotate_fixed_axis_directed(N,[0,0,1],qA,system)\n",
    "    B.rotate_fixed_axis_directed(N,[0,0,1],qB,system)\n",
    "    C.rotate_fixed_axis_directed(N,[0,0,1],qC,system)"
   ]
  },
  {
   "cell_type": "markdown",
   "metadata": {
    "id": "RQuRUnoJeIY1"
   },
   "source": [
    "### 1. Scale: Ensure your system is using SI units. You should be specifying lengths in meters (so millimeters should be scaled down to the .001 range), forces in Newtons, and radians (not degrees), and masses in kg. You may make educated guesses about mass for now."
   ]
  },
  {
   "cell_type": "markdown",
   "metadata": {
    "id": "KQGuSwdBgeA_"
   },
   "source": [
    "| Link | Length (m) | Mass (kg) |\n",
    "|------|--------|------|\n",
    "|  lA   |  0.07  |  0.0004752  | \n",
    "|  lB   |  0.18  |  0.0010032  |\n",
    "|  lC   |  0.07  |  0.0004752  |\n",
    "|  lD   |  0.04  |  0.0002640  |\n",
    "\n",
    "The lengths of each links are obtain from our Physical Design.\n",
    "\n",
    "#### Updated model with Data from task 1 and 3 - Claudio\n",
    "\n",
    "$ 1A , 1C $\n",
    "$$ \\frac {176}{1} = \\frac { x }{(0.03 * 0.07)} $$\n",
    "\n",
    "$$ {x} =  { 176 }*{(0.03 * 0.07)} = {0.4752}{g} = {0.0004752 kg}$$\n",
    "\n",
    "$ 1B $\n",
    "$$ \\frac {176}{1} = \\frac { x }{(0.03 * 0.18)} $$\n",
    "\n",
    "$$ {x} =  { 176 }*{(0.03 * 0.18)} = {0.9504}{g} = {0.0009504 kg}$$\n",
    "\n",
    "Account for extra paper to attach\n",
    "\n",
    "$$ {x} = {0.9504} + { 176 }*{(0.03 * 0.01)}  = {1.0032}{g} = {0.0010032 kg}$$\n",
    "\n",
    "$ 1D $\n",
    "$$ \\frac {176}{1} = \\frac { x }{(0.03 * 0.04)}$$\n",
    "\n",
    "$$ {x} =  { 176 }*{(0.03 * 0.04)} = {0.2112}{g} = {0.0002112 kg}$$\n",
    "\n",
    "Account for extra paper to attach\n",
    "\n",
    "$$ {x} = {0.2112} + { 176 }*{(0.03 * 0.01)}  = {0.264}{g} = {0.000264 kg}$$\n",
    "\n",
    "\n",
    "The lengths of each links are obtain from our kinematic design."
   ]
  },
  {
   "cell_type": "code",
   "execution_count": 4,
   "metadata": {
    "id": "ir4xCJinhEqq"
   },
   "outputs": [],
   "source": [
    "# Define constants and vaiables\n",
    "lA = Constant(0.07,'lA',system)\n",
    "lB = Constant(0.18,'lB',system)\n",
    "lC = Constant(0.07,'lC',system)\n",
    "lD = Constant(0.04,'lD',system)\n",
    "\n",
    "mA = Constant(0.0004752,'mA',system)\n",
    "mB = Constant(0.0010032,'mB',system)\n",
    "mC = Constant(0.0004752,'mC',system)\n",
    "mM = Constant(0.000264,'mM',system)\n",
    "\n",
    "# Define kinematics\n",
    "pNA = 0*N.x + 0*N.y\n",
    "pAB = pNA + lA*A.x\n",
    "pBtip = pAB + lB*B.x\n",
    "pBC = pAB + lD*B.x\n",
    "pCD = pBC + lC*C.x\n",
    "\n",
    "points = [pNA,pAB,pBtip,pBC,pCD]"
   ]
  },
  {
   "cell_type": "markdown",
   "metadata": {
    "id": "7S5Mu9GiiIX6"
   },
   "source": [
    "### 2. Define Inertias: Add a center of mass and a particle or rigid body to each rotational frame. You may use particles for now if you are not sure of the inertial properties of your bodies, but you should plan on finding these values soon for any “payloads” or parts of your system that carry extra loads (other than the weight of paper)."
   ]
  },
  {
   "cell_type": "markdown",
   "metadata": {
    "id": "XX8ct86YJo4r"
   },
   "source": [
    "For now, I just put inertia values as 1 for all of the bodies. More accurate values will be provided after a Solidworks model is built.\n",
    "Since the main material of our device body is paper and its uniform, the center of mass is located at the center of the body."
   ]
  },
  {
   "cell_type": "code",
   "execution_count": 5,
   "metadata": {
    "id": "gj1MlpL-iEv-"
   },
   "outputs": [],
   "source": [
    "# Add inertia. In the following code, we use point mass before we have the more realistic values of inertia. Therefore, all inertial values are 1 for now.\n",
    "Ixx_A = Constant(1,'Ixx_A',system)\n",
    "Iyy_A = Constant(1,'Iyy_A',system)\n",
    "Izz_A = Constant(1,'Izz_A',system)\n",
    "Ixx_B = Constant(1,'Ixx_B',system)\n",
    "Iyy_B = Constant(1,'Iyy_B',system)\n",
    "Izz_B = Constant(1,'Izz_B',system)\n",
    "Ixx_C = Constant(1,'Ixx_C',system)\n",
    "Iyy_C = Constant(1,'Iyy_C',system)\n",
    "Izz_C = Constant(1,'Izz_C',system)\n",
    "\n",
    "# Center of mass\n",
    "pAcm = pNA+lA/2*A.x\n",
    "pBcm = pAB+lB/2*B.x\n",
    "pCcm = pBC+lC/2*C.x\n",
    "\n",
    "# Angular velocity\n",
    "wNA = N.getw_(A)\n",
    "wAB = A.getw_(B)\n",
    "wBC = B.getw_(C)\n",
    "\n",
    "# Define body\n",
    "IA = Dyadic.build(A,Ixx_A,Iyy_A,Izz_A)\n",
    "IB = Dyadic.build(B,Ixx_B,Iyy_B,Izz_B)\n",
    "IC = Dyadic.build(C,Ixx_C,Iyy_C,Izz_C)\n",
    "\n",
    "# BodyA = Particle(pAcm,mA,'ParticleA',system)\n",
    "# BodyB = Particle(pBcm,mB,'ParticleB',system)\n",
    "# BodyC = Particle(pCcm,mC,'ParticleC',system)\n",
    "BodyA = Body('BodyA',A,pAcm,mA,IA,system)\n",
    "BodyB = Body('BodyB',B,pBcm,mB,IB,system)\n",
    "BodyC = Body('BodyC',C,pCcm,mC,IC,system)"
   ]
  },
  {
   "cell_type": "markdown",
   "metadata": {
    "id": "BEVfa_s3iNi4"
   },
   "source": [
    "# 3. Add Forces: Add the acceleration due to gravity. Add rotational springs in the joints (using k=0 is ok for now) and a damper to at least one rotational joint. You do not need to add external motor/spring forces but you should start planning to collect that data."
   ]
  },
  {
   "cell_type": "markdown",
   "metadata": {
    "id": "rpjvhj4MKUxl"
   },
   "source": [
    "A damper is added at the input joint (pNA). Other joints are assumed to be fully free (no damping, and no spring).\n",
    "\n",
    "Note that although we have damping and spring formulation in the code the values (b and k) are set to zero in the previous code."
   ]
  },
  {
   "cell_type": "code",
   "execution_count": 6,
   "metadata": {
    "id": "mXz8OsM6l_o8"
   },
   "outputs": [],
   "source": [
    "system.addforce(-b*wNA,wNA)\n",
    "\n",
    "# Spring force\n",
    "if not global_q:\n",
    "    system.add_spring_force1(k,(qA-preload1)*N.z,wNA) \n",
    "    #system.add_spring_force1(k,(qB-preload2)*A.z,wAB)\n",
    "    #system.add_spring_force1(k,(qC-preload3)*B.z,wBC)\n",
    "else:\n",
    "    system.add_spring_force1(k,(qA-preload1)*N.z,wNA) \n",
    "    #system.add_spring_force1(k,(qB-qA-preload2)*N.z,wAB)\n",
    "    #system.add_spring_force1(k,(qC-qB-preload3)*N.z,wBC)\n",
    "    \n",
    "# Gravity force\n",
    "system.addforcegravity(-g*N.y)"
   ]
  },
  {
   "cell_type": "code",
   "execution_count": 7,
   "metadata": {
    "colab": {
     "base_uri": "https://localhost:8080/"
    },
    "id": "IYEZu-7HCVES",
    "outputId": "88a4639c-2227-4303-d747-a13fff96989c"
   },
   "outputs": [
    {
     "data": {
      "text/plain": [
       "<pynamics.force.Force at 0x24400921af0>"
      ]
     },
     "execution_count": 7,
     "metadata": {},
     "output_type": "execute_result"
    }
   ],
   "source": [
    "# Add a motor input\n",
    "\n",
    "L = Constant(1,'L',system)\n",
    "V = Constant(1,'V',system)\n",
    "R = Constant(1,'R',system)\n",
    "Im = Constant(1,'Im',system)\n",
    "Il = Constant(1,'Il',system)\n",
    "G = Constant(1,'G',system)\n",
    "kv = Constant(0.1,'kv',system)\n",
    "kt = Constant(0.1,'kt',system)\n",
    "Tl = Constant(1,'Tl',system)\n",
    "\n",
    "i,i_d= Differentiable('i',ii=1,system=system)\n",
    "pO = pNA\n",
    "aNA = wNA.time_derivative()\n",
    "\n",
    "I_motor = Dyadic.build(B,Im,Im,Im)\n",
    "I_load = Dyadic.build(B,Il,Il,Il)\n",
    "\n",
    "Motor = Body('Motor',A,pO,0,I_motor,system,wNBody = wNA,alNBody = aNA)\n",
    "Inductor = PseudoParticle(0*M.x,L,name='Inductor',vCM = i*M.x,aCM = i_d*M.x)\n",
    "\n",
    "#T = kt*(V/R)-kv*G*qB_d\n",
    "T = kt*i\n",
    "system.addforce(T*N.z,wNA)\n",
    "system.addforce(-Tl*B.z,wNA)\n",
    "system.addforce((V-i*R - kv*G*qB_d)*M.x,i*M.x)"
   ]
  },
  {
   "cell_type": "markdown",
   "metadata": {
    "id": "tugMyQ3diONG"
   },
   "source": [
    "# 4. Constraints: Keep mechanism constraints in, but follow the pendulum example of double-differentiating all constraint equations. --- If you defined your mechanism as unattached to the Newtonian frame, add enough constraints so that it is fully attached to ground (for now). you will be eventually removing these constraints."
   ]
  },
  {
   "cell_type": "markdown",
   "metadata": {
    "id": "KD4g5kZzLVwy"
   },
   "source": [
    "The last tip of the four bar mechanism (pCD) is fixed to the ground."
   ]
  },
  {
   "cell_type": "code",
   "execution_count": 8,
   "metadata": {
    "id": "sqSDvGkPmPKt"
   },
   "outputs": [],
   "source": [
    "# Define constraints\n",
    "\n",
    "eq = []\n",
    "eq.append(pCD.dot(N.x))\n",
    "eq.append(pCD.dot(N.y))\n",
    "eq_d=[(system.derivative(item)) for item in eq]\n",
    "eq_dd=[(system.derivative(item)) for item in eq_d]"
   ]
  },
  {
   "cell_type": "markdown",
   "metadata": {
    "id": "7qQklo96iOTg"
   },
   "source": [
    "# 5. Solution: Add the code from the bottom of the pendulum example for solving for f=ma, integrating, plotting, and animating. Run the code to see your results. It should look similar to the pendulum example with constraints added, as in like a rag-doll or floppy"
   ]
  },
  {
   "cell_type": "code",
   "execution_count": 9,
   "metadata": {
    "colab": {
     "base_uri": "https://localhost:8080/",
     "height": 147
    },
    "id": "exj1q1K3mbCy",
    "outputId": "28ac4b59-5aab-4fec-cac4-f4db64ca837d"
   },
   "outputs": [
    {
     "name": "stderr",
     "output_type": "stream",
     "text": [
      "2021-03-08 00:05:17,647 - pynamics.system - INFO - getting dynamic equations\n",
      "2021-03-08 00:05:17,813 - pynamics.system - INFO - solving a = f/m and creating function\n",
      "2021-03-08 00:05:17,815 - pynamics.system - INFO - substituting constrained in Ma-f.\n",
      "2021-03-08 00:05:18,026 - pynamics.system - INFO - done solving a = f/m and creating function\n",
      "2021-03-08 00:05:18,027 - pynamics.system - INFO - calculating function for lambdas\n",
      "2021-03-08 00:05:18,053 - pynamics.integration - INFO - beginning integration\n",
      "2021-03-08 00:05:18,054 - pynamics.system - INFO - integration at time 0000.00\n"
     ]
    },
    {
     "ename": "TypeError",
     "evalue": "_lambdifygenerated() missing 1 required positional argument: 't'",
     "output_type": "error",
     "traceback": [
      "\u001b[1;31m---------------------------------------------------------------------------\u001b[0m",
      "\u001b[1;31mTypeError\u001b[0m                                 Traceback (most recent call last)",
      "\u001b[1;32m<ipython-input-9-62a6dd7fe72d>\u001b[0m in \u001b[0;36m<module>\u001b[1;34m\u001b[0m\n\u001b[0;32m      3\u001b[0m \u001b[0mfunc1\u001b[0m\u001b[1;33m,\u001b[0m\u001b[0mlambda1\u001b[0m \u001b[1;33m=\u001b[0m \u001b[0msystem\u001b[0m\u001b[1;33m.\u001b[0m\u001b[0mstate_space_post_invert\u001b[0m\u001b[1;33m(\u001b[0m\u001b[0mf\u001b[0m\u001b[1;33m,\u001b[0m\u001b[0mma\u001b[0m\u001b[1;33m,\u001b[0m\u001b[0meq_dd\u001b[0m\u001b[1;33m,\u001b[0m\u001b[0mreturn_lambda\u001b[0m \u001b[1;33m=\u001b[0m \u001b[1;32mTrue\u001b[0m\u001b[1;33m)\u001b[0m\u001b[1;33m\u001b[0m\u001b[1;33m\u001b[0m\u001b[0m\n\u001b[0;32m      4\u001b[0m \u001b[1;33m\u001b[0m\u001b[0m\n\u001b[1;32m----> 5\u001b[1;33m \u001b[0mstates\u001b[0m\u001b[1;33m=\u001b[0m\u001b[0mpynamics\u001b[0m\u001b[1;33m.\u001b[0m\u001b[0mintegration\u001b[0m\u001b[1;33m.\u001b[0m\u001b[0mintegrate\u001b[0m\u001b[1;33m(\u001b[0m\u001b[0mfunc1\u001b[0m\u001b[1;33m,\u001b[0m\u001b[0mini\u001b[0m\u001b[1;33m,\u001b[0m\u001b[0mt\u001b[0m\u001b[1;33m,\u001b[0m\u001b[0mrtol\u001b[0m\u001b[1;33m=\u001b[0m\u001b[0mtol\u001b[0m\u001b[1;33m,\u001b[0m\u001b[0matol\u001b[0m\u001b[1;33m=\u001b[0m\u001b[0mtol\u001b[0m\u001b[1;33m,\u001b[0m \u001b[0margs\u001b[0m\u001b[1;33m=\u001b[0m\u001b[1;33m(\u001b[0m\u001b[1;33m{\u001b[0m\u001b[1;34m'constants'\u001b[0m\u001b[1;33m:\u001b[0m\u001b[0msystem\u001b[0m\u001b[1;33m.\u001b[0m\u001b[0mconstant_values\u001b[0m\u001b[1;33m}\u001b[0m\u001b[1;33m,\u001b[0m\u001b[1;33m)\u001b[0m\u001b[1;33m)\u001b[0m\u001b[1;33m\u001b[0m\u001b[1;33m\u001b[0m\u001b[0m\n\u001b[0m",
      "\u001b[1;32m~\\miniconda3\\lib\\site-packages\\pynamics\\integration.py\u001b[0m in \u001b[0;36mintegrate\u001b[1;34m(*args, **kwargs)\u001b[0m\n\u001b[0;32m      6\u001b[0m \u001b[1;32mdef\u001b[0m \u001b[0mintegrate\u001b[0m\u001b[1;33m(\u001b[0m\u001b[1;33m*\u001b[0m\u001b[0margs\u001b[0m\u001b[1;33m,\u001b[0m\u001b[1;33m**\u001b[0m\u001b[0mkwargs\u001b[0m\u001b[1;33m)\u001b[0m\u001b[1;33m:\u001b[0m\u001b[1;33m\u001b[0m\u001b[1;33m\u001b[0m\u001b[0m\n\u001b[0;32m      7\u001b[0m     \u001b[1;32mif\u001b[0m \u001b[0mpynamics\u001b[0m\u001b[1;33m.\u001b[0m\u001b[0mintegrator\u001b[0m\u001b[1;33m==\u001b[0m\u001b[1;36m0\u001b[0m\u001b[1;33m:\u001b[0m\u001b[1;33m\u001b[0m\u001b[1;33m\u001b[0m\u001b[0m\n\u001b[1;32m----> 8\u001b[1;33m         \u001b[1;32mreturn\u001b[0m \u001b[0mintegrate_odeint\u001b[0m\u001b[1;33m(\u001b[0m\u001b[1;33m*\u001b[0m\u001b[0margs\u001b[0m\u001b[1;33m,\u001b[0m\u001b[1;33m**\u001b[0m\u001b[0mkwargs\u001b[0m\u001b[1;33m)\u001b[0m\u001b[1;33m\u001b[0m\u001b[1;33m\u001b[0m\u001b[0m\n\u001b[0m\u001b[0;32m      9\u001b[0m     \u001b[1;32melif\u001b[0m \u001b[0mpynamics\u001b[0m\u001b[1;33m.\u001b[0m\u001b[0mintegrator\u001b[0m\u001b[1;33m==\u001b[0m\u001b[1;36m1\u001b[0m\u001b[1;33m:\u001b[0m\u001b[1;33m\u001b[0m\u001b[1;33m\u001b[0m\u001b[0m\n\u001b[0;32m     10\u001b[0m         \u001b[0mnewargs\u001b[0m \u001b[1;33m=\u001b[0m \u001b[0margs\u001b[0m\u001b[1;33m[\u001b[0m\u001b[1;36m0\u001b[0m\u001b[1;33m]\u001b[0m\u001b[1;33m,\u001b[0m\u001b[0margs\u001b[0m\u001b[1;33m[\u001b[0m\u001b[1;36m2\u001b[0m\u001b[1;33m]\u001b[0m\u001b[1;33m[\u001b[0m\u001b[1;36m0\u001b[0m\u001b[1;33m]\u001b[0m\u001b[1;33m,\u001b[0m\u001b[0margs\u001b[0m\u001b[1;33m[\u001b[0m\u001b[1;36m1\u001b[0m\u001b[1;33m]\u001b[0m\u001b[1;33m,\u001b[0m\u001b[0margs\u001b[0m\u001b[1;33m[\u001b[0m\u001b[1;36m2\u001b[0m\u001b[1;33m]\u001b[0m\u001b[1;33m[\u001b[0m\u001b[1;33m-\u001b[0m\u001b[1;36m1\u001b[0m\u001b[1;33m]\u001b[0m\u001b[1;33m\u001b[0m\u001b[1;33m\u001b[0m\u001b[0m\n",
      "\u001b[1;32m~\\miniconda3\\lib\\site-packages\\pynamics\\integration.py\u001b[0m in \u001b[0;36mintegrate_odeint\u001b[1;34m(*arguments, **keyword_arguments)\u001b[0m\n\u001b[0;32m     17\u001b[0m \u001b[1;33m\u001b[0m\u001b[0m\n\u001b[0;32m     18\u001b[0m     \u001b[0mlogger\u001b[0m\u001b[1;33m.\u001b[0m\u001b[0minfo\u001b[0m\u001b[1;33m(\u001b[0m\u001b[1;34m'beginning integration'\u001b[0m\u001b[1;33m)\u001b[0m\u001b[1;33m\u001b[0m\u001b[1;33m\u001b[0m\u001b[0m\n\u001b[1;32m---> 19\u001b[1;33m     \u001b[0mresult\u001b[0m \u001b[1;33m=\u001b[0m \u001b[0mscipy\u001b[0m\u001b[1;33m.\u001b[0m\u001b[0mintegrate\u001b[0m\u001b[1;33m.\u001b[0m\u001b[0modeint\u001b[0m\u001b[1;33m(\u001b[0m\u001b[1;33m*\u001b[0m\u001b[0marguments\u001b[0m\u001b[1;33m,\u001b[0m\u001b[1;33m**\u001b[0m\u001b[0mkeyword_arguments\u001b[0m\u001b[1;33m)\u001b[0m\u001b[1;33m\u001b[0m\u001b[1;33m\u001b[0m\u001b[0m\n\u001b[0m\u001b[0;32m     20\u001b[0m     \u001b[0mlogger\u001b[0m\u001b[1;33m.\u001b[0m\u001b[0minfo\u001b[0m\u001b[1;33m(\u001b[0m\u001b[1;34m'finished integration'\u001b[0m\u001b[1;33m)\u001b[0m\u001b[1;33m\u001b[0m\u001b[1;33m\u001b[0m\u001b[0m\n\u001b[0;32m     21\u001b[0m     \u001b[1;32mreturn\u001b[0m \u001b[0mresult\u001b[0m\u001b[1;33m\u001b[0m\u001b[1;33m\u001b[0m\u001b[0m\n",
      "\u001b[1;32m~\\miniconda3\\lib\\site-packages\\scipy\\integrate\\odepack.py\u001b[0m in \u001b[0;36modeint\u001b[1;34m(func, y0, t, args, Dfun, col_deriv, full_output, ml, mu, rtol, atol, tcrit, h0, hmax, hmin, ixpr, mxstep, mxhnil, mxordn, mxords, printmessg, tfirst)\u001b[0m\n\u001b[0;32m    239\u001b[0m     \u001b[0mt\u001b[0m \u001b[1;33m=\u001b[0m \u001b[0mcopy\u001b[0m\u001b[1;33m(\u001b[0m\u001b[0mt\u001b[0m\u001b[1;33m)\u001b[0m\u001b[1;33m\u001b[0m\u001b[1;33m\u001b[0m\u001b[0m\n\u001b[0;32m    240\u001b[0m     \u001b[0my0\u001b[0m \u001b[1;33m=\u001b[0m \u001b[0mcopy\u001b[0m\u001b[1;33m(\u001b[0m\u001b[0my0\u001b[0m\u001b[1;33m)\u001b[0m\u001b[1;33m\u001b[0m\u001b[1;33m\u001b[0m\u001b[0m\n\u001b[1;32m--> 241\u001b[1;33m     output = _odepack.odeint(func, y0, t, args, Dfun, col_deriv, ml, mu,\n\u001b[0m\u001b[0;32m    242\u001b[0m                              \u001b[0mfull_output\u001b[0m\u001b[1;33m,\u001b[0m \u001b[0mrtol\u001b[0m\u001b[1;33m,\u001b[0m \u001b[0matol\u001b[0m\u001b[1;33m,\u001b[0m \u001b[0mtcrit\u001b[0m\u001b[1;33m,\u001b[0m \u001b[0mh0\u001b[0m\u001b[1;33m,\u001b[0m \u001b[0mhmax\u001b[0m\u001b[1;33m,\u001b[0m \u001b[0mhmin\u001b[0m\u001b[1;33m,\u001b[0m\u001b[1;33m\u001b[0m\u001b[1;33m\u001b[0m\u001b[0m\n\u001b[0;32m    243\u001b[0m                              \u001b[0mixpr\u001b[0m\u001b[1;33m,\u001b[0m \u001b[0mmxstep\u001b[0m\u001b[1;33m,\u001b[0m \u001b[0mmxhnil\u001b[0m\u001b[1;33m,\u001b[0m \u001b[0mmxordn\u001b[0m\u001b[1;33m,\u001b[0m \u001b[0mmxords\u001b[0m\u001b[1;33m,\u001b[0m\u001b[1;33m\u001b[0m\u001b[1;33m\u001b[0m\u001b[0m\n",
      "\u001b[1;32m~\\miniconda3\\lib\\site-packages\\pynamics\\system.py\u001b[0m in \u001b[0;36mfunc\u001b[1;34m(arg0, arg1, *args)\u001b[0m\n\u001b[0;32m    412\u001b[0m \u001b[1;33m\u001b[0m\u001b[0m\n\u001b[0;32m    413\u001b[0m \u001b[1;33m\u001b[0m\u001b[0m\n\u001b[1;32m--> 414\u001b[1;33m             \u001b[0mAi\u001b[0m \u001b[1;33m=\u001b[0m \u001b[0mnumpy\u001b[0m\u001b[1;33m.\u001b[0m\u001b[0marray\u001b[0m\u001b[1;33m(\u001b[0m\u001b[0mfA\u001b[0m\u001b[1;33m(\u001b[0m\u001b[1;33m*\u001b[0m\u001b[0mstate_i_full\u001b[0m\u001b[1;33m)\u001b[0m\u001b[1;33m,\u001b[0m\u001b[0mdtype\u001b[0m\u001b[1;33m=\u001b[0m\u001b[0mfloat\u001b[0m\u001b[1;33m)\u001b[0m\u001b[1;33m\u001b[0m\u001b[1;33m\u001b[0m\u001b[0m\n\u001b[0m\u001b[0;32m    415\u001b[0m             \u001b[0mbi\u001b[0m \u001b[1;33m=\u001b[0m \u001b[0mnumpy\u001b[0m\u001b[1;33m.\u001b[0m\u001b[0marray\u001b[0m\u001b[1;33m(\u001b[0m\u001b[0mfb\u001b[0m\u001b[1;33m(\u001b[0m\u001b[1;33m*\u001b[0m\u001b[0mstate_i_full\u001b[0m\u001b[1;33m)\u001b[0m\u001b[1;33m,\u001b[0m\u001b[0mdtype\u001b[0m\u001b[1;33m=\u001b[0m\u001b[0mfloat\u001b[0m\u001b[1;33m)\u001b[0m\u001b[1;33m\u001b[0m\u001b[1;33m\u001b[0m\u001b[0m\n\u001b[0;32m    416\u001b[0m \u001b[1;33m\u001b[0m\u001b[0m\n",
      "\u001b[1;31mTypeError\u001b[0m: _lambdifygenerated() missing 1 required positional argument: 't'"
     ]
    }
   ],
   "source": [
    "f,ma = system.getdynamics()\n",
    "\n",
    "func1,lambda1 = system.state_space_post_invert(f,ma,eq_dd,return_lambda = True)\n",
    "\n",
    "states=pynamics.integration.integrate(func1,ini,t,rtol=tol,atol=tol, args=({'constants':system.constant_values},))\n"
   ]
  },
  {
   "cell_type": "code",
   "execution_count": null,
   "metadata": {
    "id": "-UFvbGTSme5-"
   },
   "outputs": [],
   "source": [
    "# Plot --- output\n",
    "plt.figure()\n",
    "artists = plt.plot(t,states[:,:3])\n",
    "plt.legend(artists,['qA','qB','qC'])"
   ]
  },
  {
   "cell_type": "code",
   "execution_count": null,
   "metadata": {
    "id": "Gj1da7xKolYV"
   },
   "outputs": [],
   "source": [
    "# Plot --- energy\n",
    "\n",
    "KE = system.get_KE()\n",
    "PE = system.getPEGravity(pNA) - system.getPESprings()\n",
    "energy_output = Output([KE-PE],system)\n",
    "energy_output.calc(states)\n",
    "energy_output.plot_time()"
   ]
  },
  {
   "cell_type": "code",
   "execution_count": null,
   "metadata": {
    "id": "yu2k9fgtos3w"
   },
   "outputs": [],
   "source": [
    "# Motion\n",
    "\n",
    "points = [pNA,pAB,pBtip,pBC, pCD]\n",
    "points_output = PointsOutput(points,system)\n",
    "y = points_output.calc(states)\n",
    "points_output.plot_time(20)"
   ]
  },
  {
   "cell_type": "code",
   "execution_count": null,
   "metadata": {
    "id": "waaPWdZsMIjd"
   },
   "outputs": [],
   "source": [
    "points_output.animate(fps = 30,lw=2)\n",
    "\n",
    "from matplotlib import animation, rc\n",
    "from IPython.display import HTML\n",
    "HTML(points_output.anim.to_html5_video())\n"
   ]
  },
  {
   "cell_type": "markdown",
   "metadata": {
    "id": "ygX96U7NMrhM"
   },
   "source": [
    "From the animation above, we see that because we set the neutral position of the device to stand straight (vertical sides for the four-bar mechanism), our device would not just freely drop to the ground. "
   ]
  },
  {
   "cell_type": "markdown",
   "metadata": {
    "id": "oe1MrB38iOek"
   },
   "source": [
    "# 6. Tuning: Now adjust the damper value  to something nonzero, that over 10s shows that the system is settling."
   ]
  },
  {
   "cell_type": "code",
   "execution_count": null,
   "metadata": {
    "id": "vbeOBeiVGFxt"
   },
   "outputs": [],
   "source": [
    "b = Constant(1e0,'b',system)\n",
    "system.addforce(-b*wNA,wNA)\n",
    "\n",
    "f,ma = system.getdynamics()\n",
    "func1,lambda1 = system.state_space_post_invert(f,ma,eq_dd,return_lambda = True)\n",
    "states=pynamics.integration.integrate(func1,ini,t,rtol=tol,atol=tol, args=({'constants':system.constant_values},))\n",
    "\n",
    "# Plot --- output\n",
    "plt.figure()\n",
    "artists = plt.plot(t,states[:,:3])\n",
    "plt.legend(artists,['qA','qB','qC'])"
   ]
  },
  {
   "cell_type": "code",
   "execution_count": null,
   "metadata": {
    "id": "ZXAYiZw8QJIv"
   },
   "outputs": [],
   "source": [
    "# Motion\n",
    "\n",
    "points = [pNA,pAB,pBtip,pBC, pCD]\n",
    "points_output = PointsOutput(points,system)\n",
    "y = points_output.calc(states)\n",
    "points_output.plot_time(20)"
   ]
  },
  {
   "cell_type": "markdown",
   "metadata": {
    "id": "IQUYnlLWioAu"
   },
   "source": [
    "# 7. (Optional): Adjust joint stiffness values so that your system looks more realistic."
   ]
  },
  {
   "cell_type": "code",
   "execution_count": null,
   "metadata": {
    "id": "RnF-AGbuPOoq"
   },
   "outputs": [],
   "source": [
    "k = Constant(1e1,'k',system)\n",
    "\n",
    "# Spring force\n",
    "if not global_q:\n",
    "    system.add_spring_force1(k,(qA-preload1)*N.z,wNA) \n",
    "else:\n",
    "    system.add_spring_force1(k,(qA-preload1)*N.z,wNA) \n",
    "\n",
    "f,ma = system.getdynamics()\n",
    "func1,lambda1 = system.state_space_post_invert(f,ma,eq_dd,return_lambda = True)\n",
    "states=pynamics.integration.integrate(func1,ini,t,rtol=tol,atol=tol, args=({'constants':system.constant_values},))\n",
    "\n",
    "# Plot --- output\n",
    "plt.figure()\n",
    "artists = plt.plot(t,states[:,:3])\n",
    "plt.legend(artists,['qA','qB','qC'])"
   ]
  },
  {
   "cell_type": "code",
   "execution_count": null,
   "metadata": {
    "id": "Ea2Nxa8uQNIe"
   },
   "outputs": [],
   "source": [
    "# Motion\n",
    "\n",
    "points = [pNA,pAB,pBtip,pBC, pCD]\n",
    "points_output = PointsOutput(points,system)\n",
    "y = points_output.calc(states)\n",
    "points_output.plot_time(20)"
   ]
  },
  {
   "cell_type": "code",
   "execution_count": null,
   "metadata": {
    "id": "H8fl7Mv4Pep5"
   },
   "outputs": [],
   "source": [
    "points_output.animate(fps = 30,lw=2)\n",
    "\n",
    "from matplotlib import animation, rc\n",
    "from IPython.display import HTML\n",
    "HTML(points_output.anim.to_html5_video())"
   ]
  },
  {
   "cell_type": "markdown",
   "metadata": {},
   "source": [
    "\n",
    "## I was assigned task 1 and 3\n",
    "\n",
    "### 1. Identify and discuss the materials you plan to use in fabrication. Decide who will be obtaining those materials and distributing them.\n",
    "\n",
    "Card stock 176 grams (https://www.walmart.com/ip/Pen-Gear-Card-Stock-Paper-Assorted-Bright-8-5-x-11-65-lb-100-Sheets/245310905)\n",
    "\n",
    "### 3. Identify and Discuss how you plan to prototype your system and assign one person to do that\n",
    "\n",
    "To prototype the model we used Card Stock purchased from walmart it is 65lb or 176 grams per sqaure meter.\n",
    "\n"
   ]
  },
  {
   "cell_type": "code",
   "execution_count": null,
   "metadata": {},
   "outputs": [],
   "source": []
  }
 ],
 "metadata": {
  "colab": {
   "collapsed_sections": [],
   "name": "System Dynamics",
   "provenance": []
  },
  "kernelspec": {
   "display_name": "Python 3",
   "language": "python",
   "name": "python3"
  },
  "language_info": {
   "codemirror_mode": {
    "name": "ipython",
    "version": 3
   },
   "file_extension": ".py",
   "mimetype": "text/x-python",
   "name": "python",
   "nbconvert_exporter": "python",
   "pygments_lexer": "ipython3",
   "version": "3.8.5"
  }
 },
 "nbformat": 4,
 "nbformat_minor": 1
}
